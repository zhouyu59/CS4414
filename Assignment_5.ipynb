{
 "cells": [
  {
   "cell_type": "markdown",
   "metadata": {},
   "source": [
    "# Grade: /100 pts\n",
    "\n",
    "# Assignment 05: Model Selection & Cross Validation\n",
    "\n",
    "### Dear Applicant...You've Been Invited To  Interview To Be A Data Scientist!\n",
    "\n",
    "You've been invited to interview for a Junior Data Scientist job for a professional football (er, Soccer) club.  The owner of the team is very interested in seeing how the use of data can help improve the team's peformance, and perhaps win them the next national championship!\n",
    "\n",
    "The draft is coming up soon (thats when you get to pick new players for your team). To test your skills, the owner has asked you to create a model to help score potential draftees.  The model should look at attributes about the player and predict what their \"rating\" will be once they start playing professionally.\n",
    "\n",
    "The football club's data team has provided you with data for 17,993 footballers from the league.  Your job: build a model or models, perform model selection, and make predictions on players you have not yet seen.\n",
    "\n",
    "### The Dataset\n",
    "\n",
    "The data is stored in a csv file called `footballer_data.csv`.  The data contain 52 columns, including some information about the player, their skills, and their overall measure as an effective footballer.\n",
    "\n",
    "Most features relate to the player's abilities in football related skills, such as passing, shooting, dribbling, etc.  Some features are rated on a 1-5 scale (5 being the best), others are rated on 0-100 (100 being the best), and others still are categorical (e.g. work rate is coded as low, medium, or high).\n",
    "\n",
    "The target variable (or $y$ variable, if you will) is `overall`.  This is an overall measure of the footballer's skill and is rated from 0 to 100.  The most amazingly skilled footballer would be rated 100, where as I would struggle to score more than a 20. The model(s) you build should use the other features to predict `overall`.\n",
    "\n",
    "\n",
    "### Follow These Steps before submitting\n",
    "Once you are finished, ensure to complete the following steps.\n",
    "\n",
    "1.  Restart your kernel by clicking 'Kernel' > 'Restart & Run All'.\n",
    "\n",
    "2.  Fix any errors which result from this.\n",
    "\n",
    "3.  Repeat steps 1. and 2. until your notebook runs without errors.\n",
    "\n",
    "4.  Submit your completed notebook to OWL by the deadline.\n",
    "\n",
    "\n",
    "### Preliminaries\n",
    "---"
   ]
  },
  {
   "cell_type": "code",
   "execution_count": 10,
   "metadata": {},
   "outputs": [],
   "source": [
    "import pandas as pd\n",
    "import numpy as np\n",
    "import matplotlib.pyplot as plt\n",
    "import seaborn as sns\n",
    "from sklearn.model_selection import train_test_split, cross_val_score\n",
    "from sklearn.linear_model import LinearRegression\n",
    "from sklearn.pipeline import Pipeline\n",
    "from sklearn.preprocessing import StandardScaler, PolynomialFeatures\n",
    "from sklearn.metrics import make_scorer, mean_squared_error\n",
    "from sklearn.base import BaseEstimator, TransformerMixin\n",
    "\n",
    "pd.set_option('display.max_columns', 500)\n",
    "\n",
    "%matplotlib inline\n"
   ]
  },
  {
   "cell_type": "markdown",
   "metadata": {},
   "source": [
    "### Question 1: /10pts\n",
    "\n",
    "The hiring manager is going to walk you through a data analysis.  Your job is to implement what they ask to showcase yous skills as a data scientist.\n",
    "\n",
    "Read in the data and take a look at the dataframe.  There should be 52 columns. The outcome of interest is called `overall` which gives an overall measure of player performance. Not all of the other columns are particularly useful for modelling though (for instance, `ID` is just a unique identifier for the player.  This is essentially an arbitrary number and has no bearing on the player's rating).\n",
    "\n",
    "The hiring manager tells you to remove the following columns:\n",
    "\n",
    "* ID\n",
    "* club\n",
    "* club_logo\n",
    "* birth_date\n",
    "* flag\n",
    "* nationality\n",
    "* photo\n",
    "* potential\n",
    "\n",
    "The hiring manager would also like the following columns converted into dummy variables:\n",
    "\n",
    "* work_rate_att\n",
    "* work_rate_def\n",
    "* preferred_foot\n",
    "\n",
    "Clean the data according to the hiring manager's instructions."
   ]
  },
  {
   "cell_type": "code",
   "execution_count": 11,
   "metadata": {},
   "outputs": [],
   "source": [
    "df=pd.read_csv(\"footballer_data.csv\")\n",
    "df=df.drop([\"ID\",\"club\",\"club_logo\",\"birth_date\",\"flag\",\"nationality\",\"photo\",\"potential\"],axis=\"columns\")\n",
    "df=pd.get_dummies(df,columns=[\"work_rate_att\",\"work_rate_def\",\"preferred_foot\"],drop_first=True)"
   ]
  },
  {
   "cell_type": "markdown",
   "metadata": {},
   "source": [
    "### Question 2: /10 pts\n",
    "\n",
    "The data should all be numerical now. To evalute different models, the hiring manager asks you to define a function that returns the mean squared error. \n",
    "\n",
    "*\"Before we begin modelling, it is important to obtain a baseline for the accuracy of our predictive models.\"* says the hiring manager. *Compute the squared errors resulting if we use the mean of the `overall` variable to make predictions. Then compute the expected loss. This will serve as our baseline performance.*\n",
    "\n",
    "Plot the distribution of the losses (squared errors) and print their mean and standard deviation."
   ]
  },
  {
   "cell_type": "code",
   "execution_count": 12,
   "metadata": {},
   "outputs": [
    {
     "name": "stdout",
     "output_type": "stream",
     "text": [
      "mean is 48.25436033850663\n",
      "standard deviation is 68.68075613537349\n"
     ]
    },
    {
     "data": {
      "text/plain": [
       "<seaborn.axisgrid.FacetGrid at 0x7f9b18673130>"
      ]
     },
     "execution_count": 12,
     "metadata": {},
     "output_type": "execute_result"
    },
    {
     "data": {
      "image/png": "[encoded data removed]",
      "text/plain": [
       "<Figure size 360x360 with 1 Axes>"
      ]
     },
     "metadata": {
      "needs_background": "light"
     },
     "output_type": "display_data"
    }
   ],
   "source": [
    "# Define mean absolute error function  \n",
    "def squarederror(y,ypred):\n",
    "    return ((y-ypred)**2)\n",
    "# Get mean and std of test loss \n",
    "loss=squarederror(df.overall,df.overall.mean())\n",
    "mean=loss.mean()\n",
    "std=loss.std()\n",
    "print(\"mean is\",mean)\n",
    "print(\"standard deviation is\",std)\n",
    "\n",
    "# Plot distribution  \n",
    "sns.displot(loss)\n",
    "\n"
   ]
  },
  {
   "cell_type": "markdown",
   "metadata": {},
   "source": [
    "### Question 2: /15pts\n",
    "\n",
    "To prepare the data for modelling, the hiring manager asks you use `sklearn.model_selection.train_test_split` to seperate the data into a training set and a test set.\n",
    "\n",
    "The hiring manager would like you to estimate the performance of the final selected model to within +/- 0.25 units using mean squared error as the loss function of choice.  You remember that you can use the formula for effective test size to accomplish this.\n",
    "\n",
    "The formula for the effective test size is\n",
    "\n",
    "$$ n = \\left(\\frac{1.96 \\sigma_l}{d}\\right)^2$$\n",
    "\n",
    "Can you estimate the performance of the model to within their desired precsion? Why or why not?  If you can't, tell the hiring manager why you can't and then tell them what precision splitting the data into 50% train and 50% test will achieve.\n",
    "\n",
    "Include your answer as if you were writing the hiring manager an email in a markdown cell below..."
   ]
  },
  {
   "cell_type": "markdown",
   "metadata": {},
   "source": [
    "Hey Hiring Manager,\n",
    "    \n",
    "    I cannot estimate the performance of the model to be within 0.25 units precision. If the model's performance is similar to our baseline performance, we need a effective test size that is larger than 289936.07880313 to achieve the precision. However, the size of our dataset is 17994, which is smaller than 289936.07880313. Thus we cannot achieve this precision. If we split the data into 50% train and 50% test, we will achieve a precision of +/- 1.42.\n",
    "    \n",
    "Sincerely,\n",
    "\n",
    "Yuchen\n"
   ]
  },
  {
   "cell_type": "code",
   "execution_count": 13,
   "metadata": {},
   "outputs": [
    {
     "name": "stdout",
     "output_type": "stream",
     "text": [
      "the size of the dataframe is (17994, 46)\n",
      "the effective test size is 289936.07880313\n",
      "After splitting the data into 50% train and 50% test, the precision is 1.4191956749545402\n"
     ]
    }
   ],
   "source": [
    "# Provide your calculation as evidence\n",
    "print(\"the size of the dataframe is\",df.shape)\n",
    "size=(1.96*std/0.25)**2\n",
    "print(\"the effective test size is\",size)\n",
    "precision=1.96*std/(np.sqrt(df.shape[0]/2))\n",
    "print(\"After splitting the data into 50% train and 50% test, the precision is\",precision)"
   ]
  },
  {
   "cell_type": "markdown",
   "metadata": {},
   "source": [
    "### Question 4: /5pts\n",
    "The team at the football clib use sklearn to build a model pipelines for their projects. To learn more about pipelines, do lab section 5.9 (lab part 2) and read up on sklearn pipelines [here](https://scikit-learn.org/stable/modules/generated/sklearn.pipeline.Pipeline.html). \n",
    "\n",
    "The hiring manager want you to create a model pipeline to be fit later.  Create an sklearn pipeline which fits a linear regression model.  Don't fit the data yet!  The hiring manager will tell you when to do that...\n",
    "\n",
    "Note that the sklearn linear regression adds its own intercept so you don't need to create a column of 1s.\n"
   ]
  },
  {
   "cell_type": "code",
   "execution_count": 14,
   "metadata": {},
   "outputs": [],
   "source": [
    "X=df.drop(\"overall\",axis=\"columns\")\n",
    "y=df.overall\n",
    "Xtrain, Xtest, ytrain, ytest = train_test_split(X,y, test_size = 0.50)\n",
    "model=Pipeline([\n",
    "    (\"linear_regression\",LinearRegression())\n",
    "])"
   ]
  },
  {
   "cell_type": "markdown",
   "metadata": {},
   "source": [
    "### Question 5: /15pts\n",
    "\n",
    "The hiring manager wants you to perform cross validation on the model you constructed in the last question.  They want to make sure you understand what cross validation is, so they've asked you to **write your own function to do cross validation.  Do not use sklearn's functions to do this for you.  Else, you won't get the job!**.\n",
    "\n",
    "\n",
    "Your function should take the following arguments:\n",
    "\n",
    "* `model` -- an instance of an sklearn pipeline (like the one you made in the last question)\n",
    "* `X` -- a matrix of features\n",
    "* `y` -- a vector of outcomes (remember we're using the \"overall\" column from the data)\n",
    "* `K` -- an integer no smaller than 1 and no larger than 10.  This represents the number of folds to make in the cross validation step.\n",
    "* `scoring` -- a loss function.  \n",
    "\n",
    "Your function should return:\n",
    "\n",
    "* cv_scores -- an array of length `K`.  This houses the cross validation estimates from each fold.\n",
    "\n",
    "Perform 5 fold cross validation with your function.  Report the estimated average mean square error from your cross validation.\n",
    "\n",
    "Note: Please make sure you write your own function to perform crossvalidation. While you can use sklearn's `cross_val_score` the main aim of this question is to test that you have a thorough understanding of cross-validation."
   ]
  },
  {
   "cell_type": "code",
   "execution_count": 15,
   "metadata": {},
   "outputs": [
    {
     "name": "stdout",
     "output_type": "stream",
     "text": [
      "estimated average mean square error is 5.81934163275565\n"
     ]
    }
   ],
   "source": [
    "def cross_validate(model, X, y, K, scoring_function):\n",
    "   # Divide data set randomly into K partitions\n",
    "    \n",
    "    data=pd.concat([X, y], axis=1)\n",
    "    data=data.sample(frac=1)\n",
    "    numberOfDataPerPartition=int(y.shape[0]/K)\n",
    "    Xpartition=[0]*K\n",
    "    \n",
    "    ypartition=[0]*K\n",
    "    \n",
    "    for i in range(K):\n",
    "        Xpartition[i]=data[i*numberOfDataPerPartition:i*numberOfDataPerPartition+numberOfDataPerPartition].drop(\"overall\",axis=\"columns\")\n",
    "        ypartition[i]=data[i*numberOfDataPerPartition:i*numberOfDataPerPartition+numberOfDataPerPartition].overall\n",
    "            \n",
    "    \n",
    "\n",
    "    # For each crossvalidation fold, fit the model on K-1 partitions and evaluation on the remaning Kth partition\n",
    "    cv_scores=[]\n",
    "    for i in range(K):\n",
    "        \n",
    "        beforesplitX=Xpartition.copy()\n",
    "        beforesplitY=ypartition.copy()\n",
    "        \n",
    "        evaluateX=beforesplitX.pop(i)\n",
    "        evaluateY=beforesplitY.pop(i)\n",
    "\n",
    "                  \n",
    "        fitX=beforesplitX[0]\n",
    "        fitY=beforesplitY[0]\n",
    "        \n",
    "        for j in range(1,K-1):\n",
    "            \n",
    "            fitX=pd.concat([fitX,beforesplitX[j]],axis=0)\n",
    "            fitY=pd.concat([fitY,beforesplitY[j]],axis=0)\n",
    "\n",
    "            \n",
    "            \n",
    "        LinearModel=model.fit(fitX,fitY)\n",
    "        predictedY=LinearModel.predict(evaluateX)\n",
    "        loss=scoring_function(evaluateY,predictedY)\n",
    "        cv_scores.append(loss)\n",
    "    \n",
    "    return cv_scores\n",
    "    \n",
    "# Test your function with K = 5\n",
    "def mse(y,ypred):\n",
    "    return np.mean((y-ypred)**2)\n",
    "\n",
    "\n",
    "print(\"estimated average mean square error is\",np.mean(cross_validate(model,Xtrain,ytrain,5,mse)))"
   ]
  },
  {
   "cell_type": "markdown",
   "metadata": {},
   "source": [
    "### Question 6: /15pts\n",
    "\n",
    "That's impressive!  Your model seems to be very accurate, but now the hiring manager wants to try and make it more accurate.  They share with you that scounts see that players hit their prime in their late 20s, and as they age they become worse overall.  Thus, the effect of age seems to increase at first and then start to decrease.  Kind of like a quadratic funciton.\n",
    "\n",
    "The hiring manager wants you to add a quadratic term for age to the model.  Repeat the steps above (creating a pipeline, validating the model, etc) for a model which includes a quadratic term for age. As in the Lab, include the addition of the quadratic term for Age as a Transform into the pipeline. Report the cross validated performance below."
   ]
  },
  {
   "cell_type": "code",
   "execution_count": 16,
   "metadata": {},
   "outputs": [
    {
     "name": "stdout",
     "output_type": "stream",
     "text": [
      "estimated average mean square error is 5.6921086375754815\n"
     ]
    }
   ],
   "source": [
    "class Age2(BaseEstimator,TransformerMixin):  \n",
    "    def fit(self,X,y=None):\n",
    "        return self\n",
    "    \n",
    "    def transform(self,X,y=None):\n",
    "        X = X.assign(age2 = X.age**2)\n",
    "        return X\n",
    "\n",
    "model2 = Pipeline([\n",
    "    ('age2', Age2()),\n",
    "    ('linear_regression', LinearRegression())\n",
    "])\n",
    "\n",
    "\n",
    "print(\"estimated average mean square error is\",np.mean(cross_validate(model2,Xtrain,ytrain,5,mse)))"
   ]
  },
  {
   "cell_type": "markdown",
   "metadata": {},
   "source": [
    "### Question 7: /10 pts\n",
    "\n",
    "\n",
    "Hmmm...You aren't happy that the quadratic age  term has not improved the fit of the model.  You *really* want to impress the hiring manager, and decide to add more features to your model in hopes it will improve performance. \n",
    "\n",
    "Add sklearn's `PolynomialFeatures` to your pipeline from question 5 and set `degree=2`. Cross validate the new model and report the performance."
   ]
  },
  {
   "cell_type": "code",
   "execution_count": 17,
   "metadata": {},
   "outputs": [
    {
     "name": "stdout",
     "output_type": "stream",
     "text": [
      "estimated average mean square error is 1.4864460127307786\n"
     ]
    }
   ],
   "source": [
    "model3 = Pipeline([\n",
    "    ('poly', PolynomialFeatures(degree=2, include_bias=False)),\n",
    "    ('linear_regression', LinearRegression())\n",
    "])\n",
    "\n",
    "print(\"estimated average mean square error is\",np.mean(cross_validate(model3,Xtrain,ytrain,5,mse)))"
   ]
  },
  {
   "cell_type": "markdown",
   "metadata": {},
   "source": [
    "### Question 8: /10pts\n",
    "\n",
    "Great job!  You've managed to decrease the loss by a lot!  The hiring manager is really impressed with your work and things are looking good for your employment status!  \n",
    "\n",
    "However, the hiring manager is a little too happy with your peformance.  The hiring manager wants to explore third order interactions (that is adding cubic terms to the model).  The hiring manager tells you that their super computers can handle the computation; \"*It's no big deal for us*\" they boast.\n",
    " \n",
    "This is not a good idea, and you know it!  Talk them out of doing this.  Write them an email in the cell below explaining what could happen if you add too may interactions.\n",
    "\n",
    "---"
   ]
  },
  {
   "cell_type": "markdown",
   "metadata": {},
   "source": [
    "Hey Hiring Manager,\n",
    "\n",
    "       This is not a good idea because it could cause overfitting. As the model becomes more complex, the bias would decrease(training error decreases). However, variance increases(test error increases). Adding a cubic term might decrease the training error, but it could also increase test error and cause overfitting.\n",
    "       \n",
    "Sincerly,\n",
    "\n",
    "Yuchen\n",
    "\n"
   ]
  },
  {
   "cell_type": "markdown",
   "metadata": {},
   "source": [
    "### Question 9:  /10pts\n",
    "\n",
    "You've successfully talked the hiring manager out of adding cubic terms to the model. Good job!  Now the hiring manager asks for your opinion.  Over the course of the interview, you've fit three models.  It is time to pick a model to deploy!\n",
    "\n",
    "Based on the cross validation scores, which model would you choose?  \n",
    "Train your chosen model on all the training data. \n",
    "Estimate the performance of your chosen model on the test data you held out, and do the following:\n",
    "\n",
    "- Compute a point estimate for the generalization error. (A \"point estimate\" is a single number that we expect to be close to the thing we are trying to estimate.)\n",
    "- Compute a confidence interval for the generalization error.  \n",
    "- Plot the distribution of the squared errors.\n",
    "\n",
    "Is the test error close to the cross validation error of the model you chose? Why do you think this is the case? Answer below as if you were talking to the hiring manager.\n"
   ]
  },
  {
   "cell_type": "markdown",
   "metadata": {},
   "source": [
    "Hey Hiring Manager,\n",
    "    \n",
    "    I would choose the model in question 7 because the model gives the smallest cross validation error( mean square error). Test error is close to the cross validation error, because we did not overfit the model. The cross validation error is not very small. As a result, our model could also fit our testing data very well. Then the test error is close to the cross validation error.\n",
    "\n",
    "Sincerely,\n",
    "\n",
    "Yuchen"
   ]
  },
  {
   "cell_type": "code",
   "execution_count": 18,
   "metadata": {},
   "outputs": [
    {
     "name": "stdout",
     "output_type": "stream",
     "text": [
      "point estimate for the generalization error is 1.436536496092414\n",
      "confidence interval for the generalization error is [1.3748409486097268, 1.4982320435751013]\n"
     ]
    },
    {
     "data": {
      "text/plain": [
       "<seaborn.axisgrid.FacetGrid at 0x7f9ae3587670>"
      ]
     },
     "execution_count": 18,
     "metadata": {},
     "output_type": "execute_result"
    },
    {
     "data": {
      "image/png": "[encoded data removed]",
      "text/plain": [
       "<Figure size 360x360 with 1 Axes>"
      ]
     },
     "metadata": {
      "needs_background": "light"
     },
     "output_type": "display_data"
    }
   ],
   "source": [
    "finalModel=model3.fit(Xtrain,ytrain)\n",
    "testloss = mse(ytest,finalModel.predict(Xtest))\n",
    "loss_ci = [testloss - 1.96*np.std(squarederror(ytest,finalModel.predict(Xtest)))/np.sqrt(ytest.shape[0]),testloss+1.96*np.std(squarederror(ytest,finalModel.predict(Xtest)))/np.sqrt(ytest.shape[0])]\n",
    "print(\"point estimate for the generalization error is\",testloss)\n",
    "print(\"confidence interval for the generalization error is\",loss_ci)\n",
    "\n",
    "sns.displot(squarederror(ytest,finalModel.predict(Xtest)))"
   ]
  },
  {
   "cell_type": "markdown",
   "metadata": {},
   "source": [
    "### Follow These Steps before submitting\n",
    "Once you are finished, ensure to complete the following steps.\n",
    "\n",
    "1.  Restart your kernel by clicking 'Kernel' > 'Restart & Run All'.\n",
    "\n",
    "2.  Fix any errors which result from this.\n",
    "\n",
    "3.  Repeat steps 1. and 2. until your notebook runs without errors.\n",
    "\n",
    "4.  Submit your completed notebook to OWL by the deadline."
   ]
  }
 ],
 "metadata": {
  "kernelspec": {
   "display_name": "Python 3",
   "language": "python",
   "name": "python3"
  },
  "language_info": {
   "codemirror_mode": {
    "name": "ipython",
    "version": 3
   },
   "file_extension": ".py",
   "mimetype": "text/x-python",
   "name": "python",
   "nbconvert_exporter": "python",
   "pygments_lexer": "ipython3",
   "version": "3.8.5"
  }
 },
 "nbformat": 4,
 "nbformat_minor": 4
}
