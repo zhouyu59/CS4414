{
 "cells": [
  {
   "cell_type": "code",
   "execution_count": 2,
   "metadata": {},
   "outputs": [],
   "source": [
    "# You can import *ANYTHING* you want here.\n",
    "import numpy as np\n",
    "import matplotlib.pyplot as plt\n",
    "import seaborn as sns\n",
    "from xgboost import XGBRegressor\n",
    "from sklearn.ensemble import RandomForestRegressor\n",
    "from sklearn.metrics import mean_absolute_percentage_error # Requires sklearn 0.24 (December 2020), update with conda/pip if needed.\n",
    "from sklearn.model_selection import GridSearchCV, train_test_split\n",
    "\n",
    "import pandas as pd"
   ]
  },
  {
   "cell_type": "markdown",
   "metadata": {},
   "source": [
    "# Assignment 8: Tree methods\n",
    "\n",
    "In this assignment we'll study tree methods and their capabilities as interpolators and extrapolators, and the importance of understanding your data. We will use a dataset of energy consumption of home appliances for houses in Chievres, Belgium. The data has the following variables:\n",
    "\n",
    "- date time year-month-day hour:minute:second\n",
    "- Appliances, energy use in Wh (**Target variable**)energy_extrapolation\n",
    "- lights, energy use of light fixtures in the house in Wh\n",
    "- T1, Temperature in kitchen area, in Celsius\n",
    "- RH_1, Humidity in kitchen area, in %\n",
    "- T2, Temperature in living room area, in Celsius\n",
    "- RH_2, Humidity in living room area, in %\n",
    "- T3, Temperature in laundry room area\n",
    "- RH_3, Humidity in laundry room area, in %\n",
    "- T4, Temperature in office room, in Celsius\n",
    "- RH_4, Humidity in office room, in %\n",
    "- T5, Temperature in bathroom, in Celsius\n",
    "- RH_5, Humidity in bathroom, in %\n",
    "- T6, Temperature outside the building (north side), in Celsius\n",
    "- RH_6, Humidity outside the building (north side), in %\n",
    "- T7, Temperature in ironing room , in Celsius\n",
    "- RH_7, Humidity in ironing room, in %\n",
    "- T8, Temperature in teenager room 2, in Celsius\n",
    "- RH_8, Humidity in teenager room 2, in %\n",
    "- T9, Temperature in parents room, in Celsius\n",
    "- RH_9, Humidity in parents room, in %\n",
    "- To, Temperature outside (from Chievres weather station), in Celsius\n",
    "- Pressure (from Chievres weather station), in mm Hg\n",
    "- RH_out, Humidity outside (from Chievres weather station), in %\n",
    "- Wind speed (from Chievres weather station), in m/s\n",
    "- Visibility (from Chievres weather station), in km\n",
    "- Tdewpoint (from Chievres weather station), in C degrees\n",
    "\n",
    "You are given two datasets: energy_appliances_standard.csv and energy_appliances_extrapolation.csv. The first dataset has typical consumption patterns, while the second one has the top 10% highest consumptions and will be used to test the extrapolating capacities of our models.\n"
   ]
  },
  {
   "cell_type": "markdown",
   "metadata": {},
   "source": [
    "## Task 1: Random Forests (35/100)\n",
    "\n",
    "Random Forests are excellent predictors. Usually we only need to tune one parameter: the number of trees in the model. However, how many trees are enough? Follow these steps:\n",
    "\n",
    "1. Load the training dataset (energy_appliances_standard.csv) and show the descriptive statistics of the variables. (3 pts)\n",
    "\n",
    "2. Create a train / test partition of the data using 30% of the data for the test set and a ```random_state``` value of 20201107(2 pts).\n",
    "\n",
    "3. Follow [this example](https://scikit-learn.org/stable/auto_examples/ensemble/plot_ensemble_oob.html) and train a [Random Forest Regressor](https://scikit-learn.org/stable/modules/generated/sklearn.ensemble.RandomForestRegressor.html) using ```Appliances``` as the target variable. Test between 50 and 250 trees, plotting the Out-of-Bag (OOB) error after every iteration. Be patient as training can take a while. Written answer: What is the optimal number of trees for your model and why do you think this? (15 pts)\n",
    "\n",
    "4. Train your final random forest with the number of trees you selected in part 3. Apply this model over your test set and over the extrapolating dataset (from the file ```energy_appliances_extrapolation.csv```), calculating the mean absolute percentual error for each dataset.  Show in a scatterplot the predicted value vs the real value of the target variable for both the test set and the extrapolation set (in the same plot), differentiating both by using different colors for the points. Written answer: How does the random forest model perform on predicting Appliance energy usage in the extrapolation data set? If it performs poorly, why? If it performs well, why? *Hint: look at the scatterplot*. (15 points)"
   ]
  },
  {
   "cell_type": "code",
   "execution_count": 3,
   "metadata": {},
   "outputs": [
    {
     "data": {
      "text/html": [
       "<div>\n",
       "<style scoped>\n",
       "    .dataframe tbody tr th:only-of-type {\n",
       "        vertical-align: middle;\n",
       "    }\n",
       "\n",
       "    .dataframe tbody tr th {\n",
       "        vertical-align: top;\n",
       "    }\n",
       "\n",
       "    .dataframe thead th {\n",
       "        text-align: right;\n",
       "    }\n",
       "</style>\n",
       "<table border=\"1\" class=\"dataframe\">\n",
       "  <thead>\n",
       "    <tr style=\"text-align: right;\">\n",
       "      <th></th>\n",
       "      <th>Appliances</th>\n",
       "      <th>lights</th>\n",
       "      <th>T1</th>\n",
       "      <th>RH_1</th>\n",
       "      <th>T2</th>\n",
       "      <th>RH_2</th>\n",
       "      <th>T3</th>\n",
       "      <th>RH_3</th>\n",
       "      <th>T4</th>\n",
       "      <th>RH_4</th>\n",
       "      <th>...</th>\n",
       "      <th>T8</th>\n",
       "      <th>RH_8</th>\n",
       "      <th>T9</th>\n",
       "      <th>RH_9</th>\n",
       "      <th>T_out</th>\n",
       "      <th>Press_mm_hg</th>\n",
       "      <th>RH_out</th>\n",
       "      <th>Windspeed</th>\n",
       "      <th>Visibility</th>\n",
       "      <th>Tdewpoint</th>\n",
       "    </tr>\n",
       "  </thead>\n",
       "  <tbody>\n",
       "    <tr>\n",
       "      <th>count</th>\n",
       "      <td>17735.000000</td>\n",
       "      <td>17735.000000</td>\n",
       "      <td>17735.000000</td>\n",
       "      <td>17735.000000</td>\n",
       "      <td>17735.000000</td>\n",
       "      <td>17735.000000</td>\n",
       "      <td>17735.000000</td>\n",
       "      <td>17735.000000</td>\n",
       "      <td>17735.000000</td>\n",
       "      <td>17735.000000</td>\n",
       "      <td>...</td>\n",
       "      <td>17735.000000</td>\n",
       "      <td>17735.000000</td>\n",
       "      <td>17735.000000</td>\n",
       "      <td>17735.000000</td>\n",
       "      <td>17735.000000</td>\n",
       "      <td>17735.000000</td>\n",
       "      <td>17735.000000</td>\n",
       "      <td>17735.000000</td>\n",
       "      <td>17735.000000</td>\n",
       "      <td>17735.000000</td>\n",
       "    </tr>\n",
       "    <tr>\n",
       "      <th>mean</th>\n",
       "      <td>68.121229</td>\n",
       "      <td>3.445729</td>\n",
       "      <td>21.688855</td>\n",
       "      <td>40.150264</td>\n",
       "      <td>20.293891</td>\n",
       "      <td>40.469997</td>\n",
       "      <td>22.230926</td>\n",
       "      <td>39.160423</td>\n",
       "      <td>20.860319</td>\n",
       "      <td>38.983631</td>\n",
       "      <td>...</td>\n",
       "      <td>22.050534</td>\n",
       "      <td>43.016242</td>\n",
       "      <td>19.505556</td>\n",
       "      <td>41.552215</td>\n",
       "      <td>7.314032</td>\n",
       "      <td>755.566425</td>\n",
       "      <td>80.249079</td>\n",
       "      <td>3.969812</td>\n",
       "      <td>38.305214</td>\n",
       "      <td>3.762879</td>\n",
       "    </tr>\n",
       "    <tr>\n",
       "      <th>std</th>\n",
       "      <td>30.182146</td>\n",
       "      <td>7.552424</td>\n",
       "      <td>1.604312</td>\n",
       "      <td>3.930099</td>\n",
       "      <td>2.171999</td>\n",
       "      <td>4.063088</td>\n",
       "      <td>1.969945</td>\n",
       "      <td>3.219280</td>\n",
       "      <td>2.047586</td>\n",
       "      <td>4.320711</td>\n",
       "      <td>...</td>\n",
       "      <td>1.961083</td>\n",
       "      <td>5.202160</td>\n",
       "      <td>2.010550</td>\n",
       "      <td>4.161873</td>\n",
       "      <td>5.291010</td>\n",
       "      <td>7.339842</td>\n",
       "      <td>14.768037</td>\n",
       "      <td>2.447164</td>\n",
       "      <td>11.957900</td>\n",
       "      <td>4.187098</td>\n",
       "    </tr>\n",
       "    <tr>\n",
       "      <th>min</th>\n",
       "      <td>10.000000</td>\n",
       "      <td>0.000000</td>\n",
       "      <td>16.790000</td>\n",
       "      <td>27.023333</td>\n",
       "      <td>16.100000</td>\n",
       "      <td>20.463333</td>\n",
       "      <td>17.200000</td>\n",
       "      <td>28.766667</td>\n",
       "      <td>15.100000</td>\n",
       "      <td>27.660000</td>\n",
       "      <td>...</td>\n",
       "      <td>16.306667</td>\n",
       "      <td>29.600000</td>\n",
       "      <td>14.890000</td>\n",
       "      <td>29.166667</td>\n",
       "      <td>-5.000000</td>\n",
       "      <td>729.366667</td>\n",
       "      <td>24.000000</td>\n",
       "      <td>0.000000</td>\n",
       "      <td>1.000000</td>\n",
       "      <td>-6.600000</td>\n",
       "    </tr>\n",
       "    <tr>\n",
       "      <th>25%</th>\n",
       "      <td>50.000000</td>\n",
       "      <td>0.000000</td>\n",
       "      <td>20.760000</td>\n",
       "      <td>37.260000</td>\n",
       "      <td>18.790000</td>\n",
       "      <td>37.930000</td>\n",
       "      <td>20.790000</td>\n",
       "      <td>36.826667</td>\n",
       "      <td>19.566667</td>\n",
       "      <td>35.500000</td>\n",
       "      <td>...</td>\n",
       "      <td>20.828889</td>\n",
       "      <td>39.200000</td>\n",
       "      <td>18.066667</td>\n",
       "      <td>38.530000</td>\n",
       "      <td>3.500000</td>\n",
       "      <td>751.000000</td>\n",
       "      <td>71.333333</td>\n",
       "      <td>2.000000</td>\n",
       "      <td>29.000000</td>\n",
       "      <td>0.933333</td>\n",
       "    </tr>\n",
       "    <tr>\n",
       "      <th>50%</th>\n",
       "      <td>60.000000</td>\n",
       "      <td>0.000000</td>\n",
       "      <td>21.600000</td>\n",
       "      <td>39.533333</td>\n",
       "      <td>19.926667</td>\n",
       "      <td>40.545000</td>\n",
       "      <td>22.100000</td>\n",
       "      <td>38.466667</td>\n",
       "      <td>20.666667</td>\n",
       "      <td>38.363333</td>\n",
       "      <td>...</td>\n",
       "      <td>22.166667</td>\n",
       "      <td>42.440000</td>\n",
       "      <td>19.390000</td>\n",
       "      <td>40.863333</td>\n",
       "      <td>6.850000</td>\n",
       "      <td>756.100000</td>\n",
       "      <td>84.333333</td>\n",
       "      <td>3.500000</td>\n",
       "      <td>40.000000</td>\n",
       "      <td>3.433333</td>\n",
       "    </tr>\n",
       "    <tr>\n",
       "      <th>75%</th>\n",
       "      <td>80.000000</td>\n",
       "      <td>0.000000</td>\n",
       "      <td>22.600000</td>\n",
       "      <td>42.863333</td>\n",
       "      <td>21.463333</td>\n",
       "      <td>43.326667</td>\n",
       "      <td>23.290000</td>\n",
       "      <td>41.530000</td>\n",
       "      <td>22.100000</td>\n",
       "      <td>42.066667</td>\n",
       "      <td>...</td>\n",
       "      <td>23.390000</td>\n",
       "      <td>46.590000</td>\n",
       "      <td>20.600000</td>\n",
       "      <td>44.290000</td>\n",
       "      <td>10.333333</td>\n",
       "      <td>760.950000</td>\n",
       "      <td>91.845238</td>\n",
       "      <td>5.333333</td>\n",
       "      <td>40.000000</td>\n",
       "      <td>6.550000</td>\n",
       "    </tr>\n",
       "    <tr>\n",
       "      <th>max</th>\n",
       "      <td>190.000000</td>\n",
       "      <td>50.000000</td>\n",
       "      <td>26.200000</td>\n",
       "      <td>59.633333</td>\n",
       "      <td>29.856667</td>\n",
       "      <td>56.026667</td>\n",
       "      <td>29.100000</td>\n",
       "      <td>49.656667</td>\n",
       "      <td>26.200000</td>\n",
       "      <td>51.000000</td>\n",
       "      <td>...</td>\n",
       "      <td>27.230000</td>\n",
       "      <td>58.780000</td>\n",
       "      <td>24.500000</td>\n",
       "      <td>53.326667</td>\n",
       "      <td>26.100000</td>\n",
       "      <td>772.283333</td>\n",
       "      <td>100.000000</td>\n",
       "      <td>14.000000</td>\n",
       "      <td>66.000000</td>\n",
       "      <td>15.500000</td>\n",
       "    </tr>\n",
       "  </tbody>\n",
       "</table>\n",
       "<p>8 rows × 26 columns</p>\n",
       "</div>"
      ],
      "text/plain": [
       "         Appliances        lights            T1          RH_1            T2  \\\n",
       "count  17735.000000  17735.000000  17735.000000  17735.000000  17735.000000   \n",
       "mean      68.121229      3.445729     21.688855     40.150264     20.293891   \n",
       "std       30.182146      7.552424      1.604312      3.930099      2.171999   \n",
       "min       10.000000      0.000000     16.790000     27.023333     16.100000   \n",
       "25%       50.000000      0.000000     20.760000     37.260000     18.790000   \n",
       "50%       60.000000      0.000000     21.600000     39.533333     19.926667   \n",
       "75%       80.000000      0.000000     22.600000     42.863333     21.463333   \n",
       "max      190.000000     50.000000     26.200000     59.633333     29.856667   \n",
       "\n",
       "               RH_2            T3          RH_3            T4          RH_4  \\\n",
       "count  17735.000000  17735.000000  17735.000000  17735.000000  17735.000000   \n",
       "mean      40.469997     22.230926     39.160423     20.860319     38.983631   \n",
       "std        4.063088      1.969945      3.219280      2.047586      4.320711   \n",
       "min       20.463333     17.200000     28.766667     15.100000     27.660000   \n",
       "25%       37.930000     20.790000     36.826667     19.566667     35.500000   \n",
       "50%       40.545000     22.100000     38.466667     20.666667     38.363333   \n",
       "75%       43.326667     23.290000     41.530000     22.100000     42.066667   \n",
       "max       56.026667     29.100000     49.656667     26.200000     51.000000   \n",
       "\n",
       "       ...            T8          RH_8            T9          RH_9  \\\n",
       "count  ...  17735.000000  17735.000000  17735.000000  17735.000000   \n",
       "mean   ...     22.050534     43.016242     19.505556     41.552215   \n",
       "std    ...      1.961083      5.202160      2.010550      4.161873   \n",
       "min    ...     16.306667     29.600000     14.890000     29.166667   \n",
       "25%    ...     20.828889     39.200000     18.066667     38.530000   \n",
       "50%    ...     22.166667     42.440000     19.390000     40.863333   \n",
       "75%    ...     23.390000     46.590000     20.600000     44.290000   \n",
       "max    ...     27.230000     58.780000     24.500000     53.326667   \n",
       "\n",
       "              T_out   Press_mm_hg        RH_out     Windspeed    Visibility  \\\n",
       "count  17735.000000  17735.000000  17735.000000  17735.000000  17735.000000   \n",
       "mean       7.314032    755.566425     80.249079      3.969812     38.305214   \n",
       "std        5.291010      7.339842     14.768037      2.447164     11.957900   \n",
       "min       -5.000000    729.366667     24.000000      0.000000      1.000000   \n",
       "25%        3.500000    751.000000     71.333333      2.000000     29.000000   \n",
       "50%        6.850000    756.100000     84.333333      3.500000     40.000000   \n",
       "75%       10.333333    760.950000     91.845238      5.333333     40.000000   \n",
       "max       26.100000    772.283333    100.000000     14.000000     66.000000   \n",
       "\n",
       "          Tdewpoint  \n",
       "count  17735.000000  \n",
       "mean       3.762879  \n",
       "std        4.187098  \n",
       "min       -6.600000  \n",
       "25%        0.933333  \n",
       "50%        3.433333  \n",
       "75%        6.550000  \n",
       "max       15.500000  \n",
       "\n",
       "[8 rows x 26 columns]"
      ]
     },
     "execution_count": 3,
     "metadata": {},
     "output_type": "execute_result"
    }
   ],
   "source": [
    "# Data load\n",
    "\n",
    "df=pd.read_csv(\"energy_appliances_standard.csv\")\n",
    "df.describe()\n"
   ]
  },
  {
   "cell_type": "code",
   "execution_count": 4,
   "metadata": {},
   "outputs": [],
   "source": [
    "# Create train / test split\n",
    "\n",
    "Dtrain,Dtest=train_test_split(df,test_size=0.3,random_state=20201107)"
   ]
  },
  {
   "cell_type": "code",
   "execution_count": 8,
   "metadata": {},
   "outputs": [],
   "source": [
    "# Define random forest and iterate over the number of trees\n",
    "Xtrain=Dtrain.drop(\"Appliances\",axis=\"columns\")\n",
    "ytrain=Dtrain.Appliances\n",
    "\n",
    "treenumber=np.linspace(50,250,201)\n",
    "oob_error=np.zeros(len(treenumber))\n",
    "randomforest=RandomForestRegressor(oob_score=True,warm_start=True)\n",
    "for i in range (50,251):\n",
    "    randomforest.set_params(n_estimators=i)\n",
    "    randomforest.fit(Xtrain,ytrain)\n",
    "    oob_error[i-50]=1-randomforest.oob_score_\n",
    "\n"
   ]
  },
  {
   "cell_type": "code",
   "execution_count": 12,
   "metadata": {},
   "outputs": [
    {
     "data": {
      "text/plain": [
       "<matplotlib.collections.PathCollection at 0x7f93570b1610>"
      ]
     },
     "execution_count": 12,
     "metadata": {},
     "output_type": "execute_result"
    },
    {
     "data": {
      "image/png": "[encoded data removed]",
      "text/plain": [
       "<Figure size 432x288 with 1 Axes>"
      ]
     },
     "metadata": {
      "needs_background": "light"
     },
     "output_type": "display_data"
    }
   ],
   "source": [
    "# Plot the OOB error per number of trees\n",
    "plt.scatter(treenumber,oob_error)\n",
    "\n"
   ]
  },
  {
   "cell_type": "markdown",
   "metadata": {},
   "source": [
    "**Written answer:**\n",
    "The optimal number of tree is 246. As the number of trees increase from 50 to 246, the oob error decreases, because the model becomes more complex. Then the model can better fit to our training data. However, as the number of trees increases from 246 to 250, the model starts to fit the noises, so the model becomes overfitted to the training set. Therefore, the oob error also increases. 246 gives the lowest oob error, so it is the optimal number of trees."
   ]
  },
  {
   "cell_type": "code",
   "execution_count": 14,
   "metadata": {},
   "outputs": [
    {
     "name": "stdout",
     "output_type": "stream",
     "text": [
      "mean absolute percentual error for test set is 0.1928692839047997\n",
      "mean absolute percentual error for extrapolating dataset is 0.6990628263893612\n"
     ]
    }
   ],
   "source": [
    "# Final forest\n",
    "FinalRandomForest=RandomForestRegressor(n_estimators=246)\n",
    "FinalRandomForest.fit(Xtrain,ytrain)\n",
    "# Calculate error over test set\n",
    "\n",
    "Xtest=Dtest.drop(\"Appliances\",axis=\"columns\")\n",
    "ytest=Dtest.Appliances\n",
    "\n",
    "print(\"mean absolute percentual error for test set is\",mean_absolute_percentage_error(ytest,FinalRandomForest.predict(Xtest)))\n",
    "# Load the second dataset\n",
    "extrapolation=pd.read_csv(\"energy_appliances_extrapolation.csv\")\n",
    "Xextrapolation=extrapolation.drop(\"Appliances\",axis=\"columns\")\n",
    "yextrapolation=extrapolation.Appliances\n",
    "# Calculate the error over it\n",
    "print(\"mean absolute percentual error for extrapolating dataset is\",mean_absolute_percentage_error(yextrapolation,FinalRandomForest.predict(Xextrapolation)))"
   ]
  },
  {
   "cell_type": "code",
   "execution_count": 15,
   "metadata": {},
   "outputs": [
    {
     "name": "stdout",
     "output_type": "stream",
     "text": [
      "mean absolute percentual error for test set is 0.1928692839047997\n",
      "mean absolute percentual error for extrapolating dataset is 0.6990628263893612\n"
     ]
    }
   ],
   "source": [
    "# Print MAPE over the sets\n",
    "print(\"mean absolute percentual error for test set is\",mean_absolute_percentage_error(ytest,FinalRandomForest.predict(Xtest)))\n",
    "print(\"mean absolute percentual error for extrapolating dataset is\",mean_absolute_percentage_error(yextrapolation,FinalRandomForest.predict(Xextrapolation)))"
   ]
  },
  {
   "cell_type": "code",
   "execution_count": 39,
   "metadata": {},
   "outputs": [
    {
     "data": {
      "text/plain": [
       "Text(0, 0.5, 'predicted value')"
      ]
     },
     "execution_count": 39,
     "metadata": {},
     "output_type": "execute_result"
    },
    {
     "data": {
      "image/png": "[encoded data removed]",
      "text/plain": [
       "<Figure size 432x288 with 1 Axes>"
      ]
     },
     "metadata": {
      "needs_background": "light"
     },
     "output_type": "display_data"
    }
   ],
   "source": [
    "# Make the scatterplot\n",
    "plt.scatter(ytest,FinalRandomForest.predict(Xtest))\n",
    "plt.scatter(yextrapolation,FinalRandomForest.predict(Xextrapolation))\n",
    "plt.legend([\"test set\",\"extrapolation set\"])\n",
    "plt.xlabel(\"real value\")\n",
    "plt.ylabel(\"predicted value\")\n",
    "\n"
   ]
  },
  {
   "cell_type": "markdown",
   "metadata": {},
   "source": [
    "**Written answer: **\n",
    "Performance of random forest model on predicting Appliance energy usage in the extrapolation data set is poor. Extrapolation data have larger values for Appliance energy usage. Our training and test set does not have data points that have large appliance energy usage. As a result, our model that was trained on training set cannot accurately predict applicance energy usage for extrapolation set."
   ]
  },
  {
   "cell_type": "markdown",
   "metadata": {},
   "source": [
    "## Task 2: XGBoosting model (40 pts)\n",
    "\n",
    "Now we'll repeat the process for the XGB model, using an [```XGBRegressor``` object](https://xgboost.readthedocs.io/en/latest/python/python_api.html). The XGBoosting model is much more sensitive to parameter changes though as it allows to tune many different parameters. For this example:\n",
    "\n",
    "1. Written answer: Why do we say we want to use a small learning rate? Why do we say the number of trees to use depends on each dataset/problem? Why do we want to use a small tree depth? (6 pts)\n",
    "\n",
    "2. Selecting a 30% validation sample over the training set, tune your parameters using crossvalidation. Use the following ranges:\n",
    " - Learning rate: [0.01, 0.1, 0.2].\n",
    " - max_depth: 3 to 7.\n",
    " - Number of trees: [350, 400, 450, 500]\n",
    "\n",
    "Leave the other parameters at the values we identified in the lab (except for the objective parameter and those related to classification problems) and use a seed of 20201107. Report the optimal values of your parameters. (20 pts)\n",
    "\n",
    "3. Repeat part 4 of the previous task, but now for your XGB model trained over the optimal parameter combination and the complete training dataset. Plot the variable importance. Written answer: What are the most important variables? Can the XGB model extrapolate? How does it compare to a random forest? (14 pts)"
   ]
  },
  {
   "cell_type": "markdown",
   "metadata": {},
   "source": [
    "**Written answer part 1 (2 pts each):**\n",
    "We don't want the learning rate to be large, because using a large learning rate means that gradient descent would make larger steps during training. Then we could miss global minima and reach a suboptimal set of parameters after gradient descent. Therefore, we want the learning rate to be small.\n",
    "Increasing the number of trees can increase the accuracy of the model. However, a large number of trees might not improve performance by a lot. Then you don't want to use this large number of trees, because you are wasting computational power. Therefore, the number of trees depends on the problem. If the problem needs model's prediction to be very accurate, we might need a larger number of trees. However, if the model does not neeed very high accuracy, we may use a smaller number of trees.\n",
    "Tree with small depth has low variance and high bias. Boosting applies to the weak learner(tree with small depth), so weak learner's bias is reduced. If we use a large tree depth, the model will have high variance, and boosting cannot reduce the variance. Therefore, we want to use small tree depth."
   ]
  },
  {
   "cell_type": "code",
   "execution_count": 40,
   "metadata": {},
   "outputs": [],
   "source": [
    "# Define the XGB model\n",
    "XGB=XGBRegressor(max_depth=3,                 # Depth of each tree\n",
    "                learning_rate=0.1,            # How much to shrink error in each subsequent training. Trade-off with no. estimators.\n",
    "                n_estimators=100,             # How many trees to use, the more the better, but decrease learning rate if many used.\n",
    "                verbosity=1,                  # If to show more errors or not.\n",
    "                booster='gbtree',             # What to boost. Trees in this case.\n",
    "                n_jobs=2,                     # Parallel jobs to run. Set your processor number.\n",
    "                gamma=0.001,                  # Minimum loss reduction required to make a further partition on a leaf node of the tree. (Controls growth!)\n",
    "                subsample=1,                  # Subsample ratio. Can set lower\n",
    "                colsample_bytree=1,           # Subsample ratio of columns when constructing each tree.\n",
    "                colsample_bylevel=1,          # Subsample ratio of columns when constructing each level. 0.33 is similar to random forest.\n",
    "                colsample_bynode=1,           # Subsample ratio of columns when constructing each split.\n",
    "                reg_alpha=1,                  # Regularizer for first fit. alpha = 1, lambda = 0 is LASSO.\n",
    "                reg_lambda=0,                 # Regularizer for first fit.\n",
    "                scale_pos_weight=1,           # Balancing of positive and negative weights.\n",
    "                base_score=0.5,               # Global bias. Set to average of the target rate.\n",
    "                random_state=20201107,        # Seed\n",
    "                missing=None)                # How ar)\n"
   ]
  },
  {
   "cell_type": "code",
   "execution_count": 41,
   "metadata": {},
   "outputs": [],
   "source": [
    "# Define the parameter grid.\n",
    "param_grid = dict({'n_estimators': [350,400,450,500],\n",
    "                   'max_depth': [3,4,5,6,7],\n",
    "                 'learning_rate' : [0.01,0.1,0.2]\n",
    "                  })"
   ]
  },
  {
   "cell_type": "code",
   "execution_count": 42,
   "metadata": {},
   "outputs": [],
   "source": [
    "# Create reduced validation set.\n",
    "val_train = Dtrain.sample(frac = 0.3,               # The fraction to extract\n",
    "                          random_state = 20201107    # The seed.\n",
    "                                       )\n",
    "Xval_train=val_train.drop(\"Appliances\",axis=\"columns\")\n",
    "yval_train=val_train.Appliances"
   ]
  },
  {
   "cell_type": "code",
   "execution_count": 46,
   "metadata": {},
   "outputs": [
    {
     "name": "stdout",
     "output_type": "stream",
     "text": [
      "Fitting 3 folds for each of 60 candidates, totalling 180 fits\n"
     ]
    },
    {
     "data": {
      "text/plain": [
       "GridSearchCV(cv=3,\n",
       "             estimator=XGBRegressor(base_score=0.5, booster='gbtree',\n",
       "                                    colsample_bylevel=1, colsample_bynode=1,\n",
       "                                    colsample_bytree=1, gamma=0.001,\n",
       "                                    gpu_id=None, importance_type='gain',\n",
       "                                    interaction_constraints=None,\n",
       "                                    learning_rate=0.1, max_delta_step=None,\n",
       "                                    max_depth=3, min_child_weight=None,\n",
       "                                    missing=None, monotone_constraints=None,\n",
       "                                    n_estimators=100, n_jobs=2,\n",
       "                                    num_parallel_tree=None,\n",
       "                                    random_state=20201107, reg_alpha=1,\n",
       "                                    reg_lambda=0, scale_pos_weight=1,\n",
       "                                    subsample=1, tree_method=None,\n",
       "                                    validate_parameters=None, verbosity=1),\n",
       "             n_jobs=-1,\n",
       "             param_grid={'learning_rate': [0.01, 0.1, 0.2],\n",
       "                         'max_depth': [3, 4, 5, 6, 7],\n",
       "                         'n_estimators': [350, 400, 450, 500]},\n",
       "             refit=False, verbose=1)"
      ]
     },
     "execution_count": 46,
     "metadata": {},
     "output_type": "execute_result"
    }
   ],
   "source": [
    "# Train grid search. This takes a while! Go grab a coffee.\n",
    "GridXGB = GridSearchCV(XGB,        # Original XGB. \n",
    "                       param_grid,          # Parameter grid\n",
    "                       cv = 3,              # Number of cross-validation folds.  \n",
    "                       n_jobs = -1,         # Parallel jobs. -1 is \"all you have\"\n",
    "                       refit = False,       # If refit at the end with the best. We'll do it manually.\n",
    "                       verbose = 1          # If to show what it is doing.\n",
    "                      )\n",
    "GridXGB.fit(Xval_train,yval_train)"
   ]
  },
  {
   "cell_type": "code",
   "execution_count": 47,
   "metadata": {},
   "outputs": [
    {
     "name": "stdout",
     "output_type": "stream",
     "text": [
      "{'learning_rate': 0.1, 'max_depth': 6, 'n_estimators': 350}\n"
     ]
    }
   ],
   "source": [
    "# Show best params\n",
    "print(GridXGB.best_params_)"
   ]
  },
  {
   "cell_type": "code",
   "execution_count": 48,
   "metadata": {},
   "outputs": [
    {
     "data": {
      "text/plain": [
       "XGBRegressor(base_score=0.5, booster='gbtree', colsample_bylevel=1,\n",
       "             colsample_bynode=1, colsample_bytree=1, gamma=0.001, gpu_id=-1,\n",
       "             importance_type='gain', interaction_constraints='',\n",
       "             learning_rate=0.1, max_delta_step=0, max_depth=6,\n",
       "             min_child_weight=1, missing=None, monotone_constraints='()',\n",
       "             n_estimators=350, n_jobs=2, num_parallel_tree=1,\n",
       "             random_state=20201107, reg_alpha=1, reg_lambda=0,\n",
       "             scale_pos_weight=1, subsample=1, tree_method='exact',\n",
       "             validate_parameters=1, verbosity=1)"
      ]
     },
     "execution_count": 48,
     "metadata": {},
     "output_type": "execute_result"
    }
   ],
   "source": [
    "# Train final XGB with optimal parameters\n",
    "optimalXGB=XGBRegressor(max_depth=GridXGB.best_params_.get('max_depth'), # Depth of each tree\n",
    "                learning_rate=GridXGB.best_params_.get('learning_rate'), # How much to shrink error in each subsequent training. Trade-off with no. estimators.\n",
    "                n_estimators=GridXGB.best_params_.get('n_estimators'), # How many trees to use, the more the better, but decrease learning\n",
    "                verbosity=1,                  # If to show more errors or not.\n",
    "                booster='gbtree',             # What to boost. Trees in this case.\n",
    "                n_jobs=2,                     # Parallel jobs to run. Set your processor number.\n",
    "                gamma=0.001,                  # Minimum loss reduction required to make a further partition on a leaf node of the tree. (Controls growth!)\n",
    "                subsample=1,                  # Subsample ratio. Can set lower\n",
    "                colsample_bytree=1,           # Subsample ratio of columns when constructing each tree.\n",
    "                colsample_bylevel=1,          # Subsample ratio of columns when constructing each level. 0.33 is similar to random forest.\n",
    "                colsample_bynode=1,           # Subsample ratio of columns when constructing each split.\n",
    "                reg_alpha=1,                  # Regularizer for first fit. alpha = 1, lambda = 0 is LASSO.\n",
    "                reg_lambda=0,                 # Regularizer for first fit.\n",
    "                scale_pos_weight=1,           # Balancing of positive and negative weights.\n",
    "                base_score=0.5,               # Global bias. Set to average of the target rate.\n",
    "                random_state=20201107,        # Seed\n",
    "                missing=None)                # How ar)\n",
    "\n",
    "optimalXGB.fit(Xtrain,ytrain)"
   ]
  },
  {
   "cell_type": "code",
   "execution_count": 69,
   "metadata": {},
   "outputs": [
    {
     "data": {
      "image/png": "[encoded data removed]",
      "text/plain": [
       "<Figure size 216x576 with 1 Axes>"
      ]
     },
     "metadata": {
      "needs_background": "light"
     },
     "output_type": "display_data"
    }
   ],
   "source": [
    "# Variable importance\n",
    "importances =optimalXGB.feature_importances_\n",
    "indices = np.argsort(importances)[::-1] \n",
    "\n",
    "f, ax = plt.subplots(figsize=(3, 8))\n",
    "plt.title(\"Variable Importance - XGBoosting\")\n",
    "sns.set_color_codes(\"pastel\")\n",
    "sns.barplot(y=[Xtrain.columns[i] for i in indices], x=importances[indices], \n",
    "            label=\"Total\", color=\"b\")\n",
    "ax.set(ylabel=\"Variable\",\n",
    "       xlabel=\"Variable Importance\")\n",
    "sns.despine(left=True, bottom=True)"
   ]
  },
  {
   "cell_type": "markdown",
   "metadata": {},
   "source": [
    "**Written answer:**\n",
    "The most imporant variables are T2 and lights. "
   ]
  },
  {
   "cell_type": "code",
   "execution_count": 52,
   "metadata": {},
   "outputs": [
    {
     "name": "stdout",
     "output_type": "stream",
     "text": [
      "mean absolute percentual error for test set is 0.20466739662209935\n",
      "mean absolute percentual error for extrapolating dataset is 0.6921372902534558\n"
     ]
    },
    {
     "data": {
      "text/plain": [
       "Text(0, 0.5, 'predicted value')"
      ]
     },
     "execution_count": 52,
     "metadata": {},
     "output_type": "execute_result"
    },
    {
     "data": {
      "image/png": "[encoded data removed]",
      "text/plain": [
       "<Figure size 432x288 with 1 Axes>"
      ]
     },
     "metadata": {
      "needs_background": "light"
     },
     "output_type": "display_data"
    }
   ],
   "source": [
    "# Make scatterplot\n",
    "# Print MAPE over the sets\n",
    "print(\"mean absolute percentual error for test set is\",mean_absolute_percentage_error(ytest,optimalXGB.predict(Xtest)))\n",
    "print(\"mean absolute percentual error for extrapolating dataset is\",mean_absolute_percentage_error(yextrapolation,optimalXGB.predict(Xextrapolation)))\n",
    "\n",
    "plt.scatter(ytest,optimalXGB.predict(Xtest))\n",
    "plt.scatter(yextrapolation,optimalXGB.predict(Xextrapolation))\n",
    "plt.legend([\"test set\",\"extrapolation set\"])\n",
    "plt.xlabel(\"real value\")\n",
    "plt.ylabel(\"predicted value\")"
   ]
  },
  {
   "cell_type": "markdown",
   "metadata": {},
   "source": [
    "**Written answer: **\n",
    "XGB model stilll cannot extrapolate. In comparison to random forest, the error for test set is larger, and the error for extrapolating set is smaller."
   ]
  },
  {
   "cell_type": "markdown",
   "metadata": {},
   "source": [
    "## Task 3: Combined model (25 pts)\n",
    "\n",
    "Now we will finally train a model on the combined data, by joining the extrapolation and the original dataset, and study the performance over the original test set, the new test set and the combined result. For this we will only use the Random Forest model. Use a seed of 20201107 for all functions that accept one.\n",
    "\n",
    "1. Create a train / test split set over the extrapolation data, leaving approximately 30% of the data for testing purposes. Combine this train test with the original train set (let's call this the combined train set). (5 pts)\n",
    "2. Train a Random Forest model over the **combined** train data. Discuss how many trees you used and why. (15 pts)\n",
    "3. Plot the variable importance and compare it versus the XGB in task 1. Now that you more data, does the importance change? (5 pts)\n",
    "3. Report the test set performance of your new model over the original test set, the test set you took over the extrapolation dataset and the combined test set. Plot the scatterplot of the both datasets as before in the same plot, differentiating the dataset by using colours. (10 pts)\n",
    "\n",
    "Written answer: What happens now? What can you say about the new model?"
   ]
  },
  {
   "cell_type": "code",
   "execution_count": 83,
   "metadata": {},
   "outputs": [],
   "source": [
    "# Create the new train and test set.\n",
    "trainE,testE=train_test_split(extrapolation,test_size=0.3,random_state=20201107)\n",
    "newTrain=pd.concat([Dtrain,trainE])\n",
    "newTest=pd.concat([Dtest,testE])\n"
   ]
  },
  {
   "cell_type": "code",
   "execution_count": 84,
   "metadata": {},
   "outputs": [
    {
     "name": "stdout",
     "output_type": "stream",
     "text": [
      "the number of trees that gives the lowest oob error is 220.0\n"
     ]
    }
   ],
   "source": [
    "# Obtain the new random forest (tune the trees)\n",
    "newXtrain=newTrain.drop(\"Appliances\",axis=\"columns\")\n",
    "newytrain=newTrain.Appliances\n",
    "\n",
    "treenumber=np.linspace(50,250,201)\n",
    "oob_error=np.zeros(len(treenumber))\n",
    "randomforest=RandomForestRegressor(oob_score=True,warm_start=True,random_state=20201107)\n",
    "for i in range (50,251):\n",
    "    randomforest.set_params(n_estimators=i)\n",
    "    randomforest.fit(newXtrain,newytrain)\n",
    "    oob_error[i-50]=1-randomforest.oob_score_\n",
    "\n",
    "print(\"the number of trees that gives the lowest oob error is\",treenumber[np.argmin(oob_error)])"
   ]
  },
  {
   "cell_type": "code",
   "execution_count": 85,
   "metadata": {},
   "outputs": [
    {
     "data": {
      "text/plain": [
       "RandomForestRegressor(n_estimators=220, random_state=20201107)"
      ]
     },
     "execution_count": 85,
     "metadata": {},
     "output_type": "execute_result"
    }
   ],
   "source": [
    "FinalRandomForest=RandomForestRegressor(n_estimators=220,random_state=20201107)\n",
    "FinalRandomForest.fit(newXtrain,newytrain)"
   ]
  },
  {
   "cell_type": "code",
   "execution_count": 86,
   "metadata": {},
   "outputs": [
    {
     "data": {
      "image/png": "[encoded data removed]",
      "text/plain": [
       "<Figure size 216x576 with 1 Axes>"
      ]
     },
     "metadata": {
      "needs_background": "light"
     },
     "output_type": "display_data"
    }
   ],
   "source": [
    "# Variable importance\n",
    "importances =FinalRandomForest.feature_importances_\n",
    "indices = np.argsort(importances)[::-1] \n",
    "\n",
    "f, ax = plt.subplots(figsize=(3, 8))\n",
    "plt.title(\"Variable Importance - XGBoosting\")\n",
    "sns.set_color_codes(\"pastel\")\n",
    "sns.barplot(y=[newXtrain.columns[i] for i in indices], x=importances[indices], \n",
    "            label=\"Total\", color=\"b\")\n",
    "ax.set(ylabel=\"Variable\",\n",
    "       xlabel=\"Variable Importance\")\n",
    "sns.despine(left=True, bottom=True)"
   ]
  },
  {
   "cell_type": "markdown",
   "metadata": {},
   "source": [
    "**Written answer: **\n",
    "I use 220 trees because it gives the lowest oob error. After having more data the importance changes. For XGBoosting, the highest variable importance is 0.1. Now the highest variable importance is about 0.06. Furthermore, for XGBoosting, many variables' importances are significantly higher than other variables. However, the variables' importances of our random forest is relatively similar. "
   ]
  },
  {
   "cell_type": "code",
   "execution_count": 87,
   "metadata": {},
   "outputs": [
    {
     "name": "stdout",
     "output_type": "stream",
     "text": [
      "mean absolute percentual error for test set is 0.34332202320531563\n",
      "mean absolute percentual error for extrapolating dataset is 0.20083893677137468\n",
      "mean absolute percentual error for combined test set is 0.34443433818143654\n"
     ]
    }
   ],
   "source": [
    "# Print MAPE over the test sets\n",
    "newXtest=newTest.drop(\"Appliances\",axis=\"columns\")\n",
    "newytest=newTest.Appliances\n",
    "print(\"mean absolute percentual error for test set is\",mean_absolute_percentage_error(ytest,FinalRandomForest.predict(Xtest)))\n",
    "print(\"mean absolute percentual error for extrapolating dataset is\",mean_absolute_percentage_error(yextrapolation,FinalRandomForest.predict(Xextrapolation)))\n",
    "print(\"mean absolute percentual error for combined test set is\",mean_absolute_percentage_error(newytest,FinalRandomForest.predict(newXtest)))"
   ]
  },
  {
   "cell_type": "code",
   "execution_count": 88,
   "metadata": {},
   "outputs": [
    {
     "data": {
      "text/plain": [
       "Text(0, 0.5, 'predicted value')"
      ]
     },
     "execution_count": 88,
     "metadata": {},
     "output_type": "execute_result"
    },
    {
     "data": {
      "image/png": "[encoded data removed]",
      "text/plain": [
       "<Figure size 432x288 with 1 Axes>"
      ]
     },
     "metadata": {
      "needs_background": "light"
     },
     "output_type": "display_data"
    }
   ],
   "source": [
    "# Scatterplot\n",
    "plt.scatter(ytest,FinalRandomForest.predict(Xtest))\n",
    "plt.scatter(yextrapolation,FinalRandomForest.predict(Xextrapolation))\n",
    "plt.legend([\"test set\",\"extrapolation set\"])\n",
    "plt.xlabel(\"real value\")\n",
    "plt.ylabel(\"predicted value\")"
   ]
  },
  {
   "cell_type": "markdown",
   "metadata": {},
   "source": [
    "**Written answer:**\n",
    "Now the model can extrapolate. The MAPE of extrapolating dataset becomes much lower in comaprison to the previous two models. From the scatter plot, we can also tell that the performance on extrapolating data has improved. As the real value becomes larger, the predicted value also becomes larger. However, the error for test set is increased, because the model needs to fit both training(Appliance energy usage is small) and extrapolating dataset(appliance energy usage is quite high). Then the model becomes less accurate when it predicts appliance energy usage for the test data, which are low in appliance energy usage."
   ]
  },
  {
   "cell_type": "code",
   "execution_count": null,
   "metadata": {},
   "outputs": [],
   "source": []
  }
 ],
 "metadata": {
  "kernelspec": {
   "display_name": "Python 3",
   "language": "python",
   "name": "python3"
  },
  "language_info": {
   "codemirror_mode": {
    "name": "ipython",
    "version": 3
   },
   "file_extension": ".py",
   "mimetype": "text/x-python",
   "name": "python",
   "nbconvert_exporter": "python",
   "pygments_lexer": "ipython3",
   "version": "3.8.5"
  }
 },
 "nbformat": 4,
 "nbformat_minor": 5
}
