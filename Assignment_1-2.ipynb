{
 "cells": [
  {
   "cell_type": "markdown",
   "metadata": {},
   "source": [
    "# Grade: /100 points\n",
    "\n",
    "# Assignment 01: Supervised learning, Linear models, and Loss functions\n",
    "\n",
    "In this assignment, you're going to write your own methods to fit a linear model using either an OLS or LAD cost function.  \n",
    "\n",
    "## Data set \n",
    "\n",
    "For this assignment, we will examine some data representing possums in Australia and New Guinea. The data frame contains 46 observations on the following 6 variables:\n",
    "\n",
    "* sex: Sex, either m (male) or f (female).\n",
    "* age: Age in years.\n",
    "* headL: Head length, in mm.\n",
    "* skullW: Skull width, in mm.\n",
    "* totalL: Total length, in cm.\n",
    "* tailL: Tail length, in cm.\n",
    "\n",
    "## Follow These Steps Before Submitting\n",
    "Once you are finished, ensure to complete the following steps.\n",
    "\n",
    "1.  Restart your kernel by clicking 'Kernel' > 'Restart & Run All'.\n",
    "\n",
    "2.  Fix any errors which result from this.\n",
    "\n",
    "3.  Repeat steps 1. and 2. until your notebook runs without errors.\n",
    "\n",
    "4.  Submit your completed notebook to OWL by the deadline.\n",
    "\n",
    "\n",
    "## Preliminaries"
   ]
  },
  {
   "cell_type": "code",
   "execution_count": 19,
   "metadata": {},
   "outputs": [],
   "source": [
    "# Import all the necessary packages: \n",
    "import matplotlib.pyplot as plt \n",
    "import numpy as np\n",
    "import pandas as pd\n",
    "import scipy.stats as ss \n",
    "import scipy.optimize as so\n",
    "from sklearn import linear_model\n",
    "\n",
    "%matplotlib inline"
   ]
  },
  {
   "cell_type": "markdown",
   "metadata": {},
   "source": [
    "\n",
    "## Part 1\n",
    "### Question 1.1:  /10 points\n",
    "\n",
    "\n",
    "Read in the `possum.csv` file as a `pandas.DataFrame`.  Investigate the relationship between the possum's age and its tail length by plotting a scatter plot of the `age` and `tailL` columns. Add an `alpha`(transparency of the plotted dots) in case some data are overlapping. "
   ]
  },
  {
   "cell_type": "code",
   "execution_count": 20,
   "metadata": {},
   "outputs": [
    {
     "data": {
      "text/plain": [
       "Text(0, 0.5, 'tail length (cm)')"
      ]
     },
     "execution_count": 20,
     "metadata": {},
     "output_type": "execute_result"
    },
    {
     "data": {
      "image/png": "[encoded data removed]",
      "text/plain": [
       "<Figure size 720x480 with 1 Axes>"
      ]
     },
     "metadata": {
      "needs_background": "light"
     },
     "output_type": "display_data"
    }
   ],
   "source": [
    "# Read in the data with pandas\n",
    "possum_data = pd.read_csv('possum.csv')\n",
    "\n",
    "# Make the scatter plot (don't forget the axis labels)\n",
    "fig, ax=plt.subplots(dpi=120)\n",
    "possum_data.plot.scatter(x='age',y='tailL',alpha=0.5,ax=ax)\n",
    "plt.xlabel(\"age (years)\")\n",
    "plt.ylabel(\"tail length (cm)\")\n"
   ]
  },
  {
   "cell_type": "markdown",
   "metadata": {},
   "source": [
    "### Question 1.2: /5 point\n",
    "\n",
    "Recall that the linear model, we obtain predictions by computing \n",
    "\n",
    "$$ \\hat{\\mathbf{y}} = \\mathbf{X} \\hat{\\beta} $$\n",
    "\n",
    "Here, $\\mathbf{X}$ is a design matrix which includes a column of ones, $\\hat{\\beta}$ are coefficients, and $\\hat{\\mathbf{y}}$ are outcomes.  Write a function `linearModelPredict` to compute linear model predictions given data and a coefficient vector.  The function should take as it's arguments a 1d-array of coefficients `b` and the design matrix `X` as a 2d-array and return linear model predictions `yp`.\n",
    "\n",
    "Test the function by setting \n",
    "\n",
    "```\n",
    "X = np.array([[1,0],[1,-1],[1,2]])\n",
    "b = np.array([0.1,0.3])\n",
    "```\n",
    "and call your function with these values! \n",
    "\n",
    "Report $\\hat{\\mathbf{y}}$. \n",
    "What is the dimensionality of the numpy-array that you get back? \n",
    "\n",
    "Hint:  Read the documentation for `np.dot` or the `@` operator in `numpy`."
   ]
  },
  {
   "cell_type": "code",
   "execution_count": 21,
   "metadata": {},
   "outputs": [
    {
     "name": "stdout",
     "output_type": "stream",
     "text": [
      "[ 0.1 -0.2  0.7]\n",
      "dimensionality is (3,)\n",
      "Answer: It is a 1d-array.\n",
      "[[ 0.1]\n",
      " [-0.2]\n",
      " [ 0.7]]\n",
      "dimensionality is (3, 1)\n",
      "Asnwer:the result is now a 2d-array.\n"
     ]
    }
   ],
   "source": [
    "def linearModelPredict(b,X):\n",
    "    yp = np.dot(X,b)\n",
    "    return yp\n",
    "\n",
    "# Always important: Test the new function you have written! \n",
    "X = np.array([[1,0],[1,-1],[1,2]])\n",
    "b = np.array([0.1,0.3])\n",
    "print(linearModelPredict(b,X))\n",
    "print(\"dimensionality is\",linearModelPredict(b,X).shape)\n",
    "print(\"Answer: It is a 1d-array.\")\n",
    "\n",
    "# By the way: What happens when b is a 2d-array? \n",
    "b=np.array([[0.1,0.3]]).T\n",
    "print(linearModelPredict(b,X))\n",
    "print(\"dimensionality is\",linearModelPredict(b,X).shape)\n",
    "print(\"Asnwer:the result is now a 2d-array.\")\n",
    "\n"
   ]
  },
  {
   "cell_type": "markdown",
   "metadata": {},
   "source": [
    "### Question 1.3: /15 points\n",
    "\n",
    "Write a function `linearModelLossRSS` which computes and returns the loss function for an OLS model parameterized by $\\beta$, as well as the gradient of the loss.  The function should take as its first argument a 1d-array `beta` of coefficients for the linear model, as its second argument the design matrix `X` as a 2d-array, and as its third argument a 1d-array `y` of observed outcomes.\n",
    "\n",
    "Test the function with the values \n",
    "\n",
    "```\n",
    "X = np.array([[1,0],[1,-1],[1,2]])\n",
    "b = np.array([0.1,0.3])\n",
    "y = np.array([0,0.4,2]) \n",
    "```\n",
    "\n",
    "Report the loss and the gradient. \n",
    "\n",
    "**Written answer**: To minimize the cost do you need increase or decrease the value of the parameters? "
   ]
  },
  {
   "cell_type": "code",
   "execution_count": 22,
   "metadata": {},
   "outputs": [
    {
     "name": "stdout",
     "output_type": "stream",
     "text": [
      "rss is 2.06\n",
      "gradient of b0 is -3.6\n",
      "gradient of b1 is -4.0\n",
      "Written Answer:to minimize the cost, i need to increase both b0 and b1\n"
     ]
    }
   ],
   "source": [
    "def linearModelLossRSS(b,X,y):\n",
    "    \n",
    "    predY=linearModelPredict(b,X)\n",
    "    \n",
    "    res=y-predY\n",
    "    \n",
    "    residual_sum_of_squares=np.sum(np.square(res))\n",
    "    \n",
    "    gradient=np.array([-2*np.sum(res),-2*np.sum(np.multiply(res,X[:,1]))])\n",
    "\n",
    "    return (residual_sum_of_squares, gradient)\n",
    "\n",
    "X = np.array([[1,0],[1,-1],[1,2]])\n",
    "b = np.array([0.1,0.3])\n",
    "y = np.array([0,0.4,2]) \n",
    "residual_sum_of_squares,gradient=linearModelLossRSS(b,X,y)\n",
    "print(\"rss is\",residual_sum_of_squares)\n",
    "print(\"gradient of b0 is\",gradient[0])\n",
    "print(\"gradient of b1 is\",gradient[1])\n",
    "print(\"Written Answer:to minimize the cost, i need to increase both b0 and b1\")"
   ]
  },
  {
   "cell_type": "markdown",
   "metadata": {},
   "source": [
    "### Question 1.4:  /15 points. \n",
    "\n",
    "Now that you've implemented a loss function in question 1.3, it is now time to minimize it!\n",
    "\n",
    "Write a function `linearModelFit` to fit a linear model.  The function should take as its first argument the design matrix `X` as a 2d-array, as its second argument a 1d-array `y` of outcomes, and as its third argument a function  `lossfcn` which returns as a tuple the value of the loss, as well as the gradient of the loss. As a result, it should return the estimated betas and the R2. \n",
    "\n",
    "Test the function with the values: \n",
    "```\n",
    "X = np.array([[1,0],[1,-1],[1,2]])\n",
    "y = np.array([0,0.4,2]) \n",
    "```\n",
    "\n",
    "Report best parameters and the fitted R2 \n"
   ]
  },
  {
   "cell_type": "code",
   "execution_count": 23,
   "metadata": {},
   "outputs": [
    {
     "name": "stdout",
     "output_type": "stream",
     "text": [
      "best parameters are [0.6 0.6]\n",
      "fitted R2 is 0.75\n"
     ]
    }
   ],
   "source": [
    "def linearModelFit(X,y,lossfcn = linearModelLossRSS):\n",
    "    bstart=[0,0]\n",
    "    RESULT=so.minimize(lossfcn,bstart,args=(X,y),jac=True,tol=1e-8)\n",
    "    estimated_betas=RESULT[\"x\"]\n",
    "    \n",
    "    predY=linearModelPredict(estimated_betas,X)\n",
    "    res=y-predY\n",
    "    RSS=np.sum(np.square(res))\n",
    "    TSS=np.sum(np.square(y-np.mean(y)))\n",
    "    R2=1-(RSS/TSS)\n",
    "    return (estimated_betas,R2)\n",
    "\n",
    "X = np.array([[1,0],[1,-1],[1,2]])\n",
    "y = np.array([0,0.4,2]) \n",
    "estimated_betas,R2=linearModelFit(X,y)\n",
    "print(\"best parameters are\",estimated_betas)\n",
    "print(\"fitted R2 is\",R2)"
   ]
  },
  {
   "cell_type": "markdown",
   "metadata": {},
   "source": [
    "### Question 1.5: /15 points\n",
    "\n",
    "Use the above functions to fit your model to the possum data. Then use your model and the fitted parameters to make predictions along a grid of equally spaced possum ages.  \n",
    "\n",
    "Plot the data and add a line for the predicted values. You can get these by generating a new X-matrix with equally space ages (using for example np.linspace). Also report the R2 value for the fit. You can do this by either printing out the R2 of the fit or putting it on your plot via the `annotate` function in matplotlib.\n"
   ]
  },
  {
   "cell_type": "code",
   "execution_count": 24,
   "metadata": {},
   "outputs": [
    {
     "name": "stdout",
     "output_type": "stream",
     "text": [
      "R2 is 0.22286587947604108\n"
     ]
    },
    {
     "data": {
      "image/png": "[encoded data removed]",
      "text/plain": [
       "<Figure size 720x480 with 1 Axes>"
      ]
     },
     "metadata": {
      "needs_background": "light"
     },
     "output_type": "display_data"
    }
   ],
   "source": [
    "# Make the design matrix using np.c_ \n",
    "# y = ...\n",
    "y=possum_data[\"tailL\"]\n",
    "# X =  np.c_[...]\n",
    "X=np.c_[np.ones(possum_data[\"age\"].shape[0]),possum_data[\"age\"]]\n",
    "\n",
    "# Call your fitting function \n",
    "estimated_betas,R2=linearModelFit(X,y,lossfcn = linearModelLossRSS)\n",
    "\n",
    "# Create the scatter plot (see question 1.1)\n",
    "fig, ax=plt.subplots(dpi=120)\n",
    "possum_data.plot.scatter(x='age',y='tailL',alpha=0.5,ax=ax)\n",
    "plt.xlabel(\"age (years)\")\n",
    "plt.ylabel(\"tail length (cm)\")\n",
    "\n",
    "# Create a new X matrix with equally space data \n",
    "X_grid=np.linspace(possum_data[\"age\"].min(),possum_data[\"age\"].max(),10)\n",
    "Xnew=np.c_[np.ones(X_grid.size),X_grid]\n",
    "yp=linearModelPredict(estimated_betas,Xnew)\n",
    "# Add the line to the graph \n",
    "ax.plot(X_grid,yp,color=\"red\")\n",
    "# Report R2 \n",
    "print(\"R2 is\",R2)"
   ]
  },
  {
   "cell_type": "markdown",
   "metadata": {},
   "source": [
    "## Part 2: LAD Regression\n",
    "\n",
    "### Question 2.1:  /15 points\n",
    "\n",
    "In the previous section, we worked with the squared loss.  Now, we'll implement a linear model with least absolute deviation loss.\n",
    "\n",
    "Write a function `linearModelLossLAD` which computes the least absolute deviation loss function for a linear model  parameterized by $\\beta$, as well as the gradient of the loss.  The function should take as its first argument a 1d-array `beta` of coefficients for the linear model, as its second argument the design matrix `X` as a 2d-array, and as its third argument a 1d-array `y` of observed outcomes.\n",
    "\n",
    "Test the function with the values \n",
    "\n",
    "```\n",
    "X = np.array([[1,0],[1,-1],[1,2]])\n",
    "b = np.array([0.1,0.3])\n",
    "y = np.array([0,0.4,2]) \n",
    "```\n",
    "\n",
    "Report the loss and the gradient. "
   ]
  },
  {
   "cell_type": "code",
   "execution_count": 25,
   "metadata": {},
   "outputs": [
    {
     "name": "stdout",
     "output_type": "stream",
     "text": [
      "loss is 2.0\n",
      "gradient of b0 is -1.0\n",
      "gradient of b1 is -1.0\n"
     ]
    }
   ],
   "source": [
    "def linearModelLossLAD(b,X,y):\n",
    "    \n",
    "    predY=linearModelPredict(b,X)\n",
    "    \n",
    "    res=y-predY\n",
    "    \n",
    "    sum_abs_dev=np.sum(np.absolute(res))\n",
    "    \n",
    "    grad=np.array([-np.sum(np.sign(res)),-np.sum(np.multiply(np.sign(res),X[:,1]))])\n",
    "    \n",
    "    return (sum_abs_dev,grad)\n",
    "\n",
    "X = np.array([[1,0],[1,-1],[1,2]])\n",
    "b = np.array([0.1,0.3])\n",
    "y = np.array([0,0.4,2]) \n",
    "sum_abs_dev,gradient=linearModelLossLAD(b,X,y)\n",
    "print(\"loss is\",sum_abs_dev)\n",
    "print(\"gradient of b0 is\",gradient[0])\n",
    "print(\"gradient of b1 is\",gradient[1])\n",
    "\n"
   ]
  },
  {
   "cell_type": "markdown",
   "metadata": {},
   "source": [
    "### Question 2.2: /10 points\n",
    "\n",
    "\n",
    "Use the above functions to fit your LAD model. Use your model to make predictions along a grid of equally spaced possum ages.  Once fit, add the fitted line to the scatter plot as in question 1.5.  Also report the R2-value. \n",
    "\n",
    "**Written answer**: What is the difference in the fit obtained with an L1 as compared to the L2 cost function? Which one has a higher R2 value? Why?  \n",
    "\n",
    "Note: If you recieve an error from the optimizer, it may be because the loss function for the LAD model is not differentiable at its minimum.  This will lead to some gradient based optimizers to fail to converge.  If this happens to you then pass `method=\"Powell\"` to `scipy.optimize.minimize`.\n",
    "\n"
   ]
  },
  {
   "cell_type": "code",
   "execution_count": 26,
   "metadata": {
    "scrolled": true
   },
   "outputs": [
    {
     "name": "stdout",
     "output_type": "stream",
     "text": [
      "[34.4999369   0.33335437]\n",
      "                         QuantReg Regression Results                          \n",
      "==============================================================================\n",
      "Dep. Variable:                  tailL   Pseudo R-squared:              0.03058\n",
      "Model:                       QuantReg   Bandwidth:                       2.586\n",
      "Method:                 Least Squares   Sparsity:                        4.962\n",
      "Date:                Fri, 15 Jan 2021   No. Observations:                   46\n",
      "Time:                        23:11:40   Df Residuals:                       44\n",
      "                                        Df Model:                            1\n",
      "==============================================================================\n",
      "                 coef    std err          t      P>|t|      [0.025      0.975]\n",
      "------------------------------------------------------------------------------\n",
      "Intercept     34.5000      0.791     43.617      0.000      32.906      36.094\n",
      "age            0.3333      0.177      1.881      0.067      -0.024       0.691\n",
      "==============================================================================\n",
      "R2 is 0.12923024435209307\n",
      "Written Answer: L1 cost function is robust,so it is not unduly affected by the outlier (9,55). \n",
      "L2 cost function is non-robust, so L2 cost function is more affected by the outlier. Then OLS fit gives more weight to the outlier than the LAD fit\n",
      "The R2 value of OLS is higher than LAD, because OLS regression minimizes RSS. Therefore, RSS of OLS regression is smaller than RSS of LAD regression.\n",
      "As a result,RSS/TSS of OLS is also smaller. Then R2 value(1-RSS/TSS) of OLS will be larger than R2 value of LAD\n"
     ]
    },
    {
     "data": {
      "image/png": "[encoded data removed]",
      "text/plain": [
       "<Figure size 720x480 with 1 Axes>"
      ]
     },
     "metadata": {
      "needs_background": "light"
     },
     "output_type": "display_data"
    }
   ],
   "source": [
    "# Make the design matrix using np.c_ \n",
    "# y = ...\n",
    "y=possum_data[\"tailL\"]\n",
    "# X =  np.c_[...]\n",
    "X=np.c_[np.ones(possum_data[\"age\"].shape[0]),possum_data[\"age\"]]\n",
    "\n",
    "# Call your fitting function \n",
    "estimated_betas,R2=linearModelFit(X,y,lossfcn = linearModelLossLAD)\n",
    "print(estimated_betas)\n",
    "\n",
    "import statsmodels.api as sm\n",
    "import statsmodels.formula.api as smf\n",
    "mod=smf.quantreg(\"tailL ~ age\",possum_data)\n",
    "res=mod.fit(q=0.5)\n",
    "print(res.summary())\n",
    "# Create the scatter plot (see question 1.1)\n",
    "fig, ax=plt.subplots(dpi=120)\n",
    "possum_data.plot.scatter(x='age',y='tailL',alpha=0.5,ax=ax)\n",
    "plt.xlabel(\"age (years)\")\n",
    "plt.ylabel(\"tail length (cm)\")\n",
    "\n",
    "# Create a new X matrix with equally space data \n",
    "X_grid=np.linspace(possum_data[\"age\"].min(),possum_data[\"age\"].max(),10)\n",
    "Xnew=np.c_[np.ones(X_grid.size),X_grid]\n",
    "yp=linearModelPredict(estimated_betas,Xnew)\n",
    "# Add the line to the graph \n",
    "ax.plot(X_grid,yp,color=\"red\")\n",
    "# Report R2 \n",
    "print(\"R2 is\",R2)\n",
    "print(\"Written Answer: L1 cost function is robust,so it is not unduly affected by the outlier (9,55). \")\n",
    "print(\"L2 cost function is non-robust, so L2 cost function is more affected by the outlier. Then OLS fit gives more weight to the outlier than the LAD fit\")\n",
    "print(\"The R2 value of OLS is higher than LAD, because OLS regression minimizes RSS. Therefore, RSS of OLS regression is smaller than RSS of LAD regression.\")\n",
    "print(\"As a result,RSS/TSS of OLS is also smaller. Then R2 value(1-RSS/TSS) of OLS will be larger than R2 value of LAD\")"
   ]
  },
  {
   "cell_type": "markdown",
   "metadata": {},
   "source": [
    "Written answer: The LAD fit does not give as much weight to the outlier (9,55) as the OLS fit. The R2 value is lower, however. This is because OLS minimized the RSS, and therefore maximizes R2.  "
   ]
  },
  {
   "cell_type": "markdown",
   "metadata": {},
   "source": [
    "### Question 2.3: /15 points\n",
    "\n",
    "Fit an OLS model to the possum data with the `linear_model` module from the `sklearn` package by using the `LinearRegression` class.  In no more than two sentences, comment on the rsquared values from `sklearn` and the rsquared values from your models. Are they similar?"
   ]
  },
  {
   "cell_type": "code",
   "execution_count": 27,
   "metadata": {},
   "outputs": [
    {
     "name": "stdout",
     "output_type": "stream",
     "text": [
      "R2 is 0.22286587947604142\n"
     ]
    },
    {
     "data": {
      "image/png": "[encoded data removed]",
      "text/plain": [
       "<Figure size 720x480 with 1 Axes>"
      ]
     },
     "metadata": {
      "needs_background": "light"
     },
     "output_type": "display_data"
    }
   ],
   "source": [
    "# Make the design matrix using np.c_ \n",
    "# y = ...\n",
    "y=possum_data[\"tailL\"]\n",
    "# X =  np.c_[...]\n",
    "X=np.c_[np.ones(possum_data[\"age\"].shape[0]),possum_data[\"age\"]]\n",
    "\n",
    "reg=linear_model.LinearRegression().fit(X,y)\n",
    "R2=reg.score(X,y)\n",
    "\n",
    "# Create the scatter plot (see question 1.1)\n",
    "fig, ax=plt.subplots(dpi=120)\n",
    "possum_data.plot.scatter(x='age',y='tailL',alpha=0.5,ax=ax)\n",
    "plt.xlabel(\"age (years)\")\n",
    "plt.ylabel(\"tail length (cm)\")\n",
    "\n",
    "# Create a new X matrix with equally space data \n",
    "X_grid=np.linspace(possum_data[\"age\"].min(),possum_data[\"age\"].max(),10)\n",
    "Xnew=np.c_[np.ones(X_grid.size),X_grid]\n",
    "yp=reg.predict(Xnew)\n",
    "# Add the line to the graph \n",
    "ax.plot(X_grid,yp,color=\"red\")\n",
    "# Report R2 \n",
    "print(\"R2 is\",R2)"
   ]
  },
  {
   "cell_type": "code",
   "execution_count": 28,
   "metadata": {},
   "outputs": [
    {
     "name": "stdout",
     "output_type": "stream",
     "text": [
      "Written Answer: the R squared value from sklearn is similar to the R squared value from my model. \n",
      "sklearn gives a r value of 0.22286587947604142, and my model gives a r value of  0.22286587947604097.\n"
     ]
    }
   ],
   "source": [
    "print(\"Written Answer: the R squared value from sklearn is similar to the R squared value from my model. \")\n",
    "print(\"sklearn gives a r value of 0.22286587947604142, and my model gives a r value of  0.22286587947604097.\")"
   ]
  }
 ],
 "metadata": {
  "kernelspec": {
   "display_name": "Python 3",
   "language": "python",
   "name": "python3"
  },
  "language_info": {
   "codemirror_mode": {
    "name": "ipython",
    "version": 3
   },
   "file_extension": ".py",
   "mimetype": "text/x-python",
   "name": "python",
   "nbconvert_exporter": "python",
   "pygments_lexer": "ipython3",
   "version": "3.8.5"
  }
 },
 "nbformat": 4,
 "nbformat_minor": 4
}
