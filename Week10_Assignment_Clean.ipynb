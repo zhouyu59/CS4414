{
 "cells": [
  {
   "cell_type": "markdown",
   "metadata": {},
   "source": [
    "# Assignment Week 10: Text Mining using Dimensionality Reduction Methods\n",
    "\n",
    "## Student ID: XXXXXXXX\n",
    "\n",
    "This dataset comes from the website [Internet Movie Database](https://www.imdb.com/), and represents 1,000 reviews which were labeled (by humans) as positive or negative, see [here](http://ai.stanford.edu/~amaas/data/sentiment/) for more details. In this coursework, we will study how we can use dimensionality reduction methods to improve our understanding of text data and to predict the sentiment of a set of texts. This application of data science is called [sentiment analysis](https://en.wikipedia.org/wiki/Sentiment_analysis) and it is widely used across many fields to get automated feedback when text opinions are expressed. While most modern methods of sentiment analysis are using complex deep learning methods, the tools we have seen this week can be readily applied to get a good idea of what our users are expressing."
   ]
  },
  {
   "cell_type": "code",
   "execution_count": 1,
   "metadata": {},
   "outputs": [],
   "source": [
    "# Import other packages if you need them!\n",
    "import numpy as np\n",
    "import pandas as pd\n",
    "import torch\n",
    "import torch.nn as nn\n",
    "import torch.nn.functional as F\n",
    "import sklearn.feature_extraction.text as sktext\n",
    "from sklearn.decomposition import PCA\n",
    "from sklearn.linear_model import LogisticRegressionCV\n",
    "from sklearn.model_selection import train_test_split\n",
    "from sklearn.metrics import roc_curve, roc_auc_score\n",
    "\n",
    "\n",
    "# Plotting\n",
    "import matplotlib.pyplot as plt \n",
    "import seaborn as sns\n",
    "from mpl_toolkits.mplot3d import Axes3D\n",
    "%matplotlib inline"
   ]
  },
  {
   "cell_type": "markdown",
   "metadata": {},
   "source": [
    "## Data import\n",
    "\n",
    "The dataset comes with the text and a binary variable which represents the sentiment, either positive or negative. The following code imports the data, splits it into train and test, and applies the [Tf-Idf transform](https://scikit-learn.org/stable/modules/generated/sklearn.feature_extraction.text.TfidfTransformer.html) (see the lectures, slide 34)."
   ]
  },
  {
   "cell_type": "code",
   "execution_count": 2,
   "metadata": {},
   "outputs": [
    {
     "name": "stderr",
     "output_type": "stream",
     "text": [
      "<ipython-input-2-f6f489a0514b>:2: FutureWarning: Your version of xlrd is 1.2.0. In xlrd >= 2.0, only the xls format is supported. As a result, the openpyxl engine will be used if it is installed and the engine argument is not specified. Install openpyxl instead.\n",
      "  imdb_data = pd.read_excel('IMDB_Sample.xlsx')\n"
     ]
    }
   ],
   "source": [
    "# Be sure to first leave the data here!\n",
    "imdb_data = pd.read_excel('IMDB_Sample.xlsx')\n",
    "\n",
    "\n",
    "# Scikit-Learn works by first defining the der \n",
    "TfIDFTransformer = sktext.TfidfVectorizer(strip_accents='unicode', # Eliminate accents and special characters\n",
    "                      stop_words='english', # Eliminates stop words.\n",
    "                      min_df = 0.05, # Eliminate words that do not appear in more than 5% of texts\n",
    "                      max_df = 0.95, # Eliminate words that appear in more than 95% of texts\n",
    "                      sublinear_tf=True # Use sublinear weights (softplus)\n",
    "                      )\n",
    "\n",
    "# Train / test split\n",
    "x_train, x_test, y_train, y_test = train_test_split(imdb_data['texts'],\n",
    "                                                    imdb_data['class'],\n",
    "                                                    test_size=0.3,\n",
    "                                                    random_state=20210318)\n",
    "\n",
    "# Calculate the Tf-Idf transform.\n",
    "TfIDF_train = TfIDFTransformer.fit_transform(x_train)\n",
    "TfIDF_test = TfIDFTransformer.transform(x_test)\n",
    "\n",
    "# Turn to dense matrix as PCA does not like sparse ones.\n",
    "TfIDF_train = TfIDF_train.toarray()\n",
    "TfIDF_test = TfIDF_test.toarray()"
   ]
  },
  {
   "cell_type": "markdown",
   "metadata": {},
   "source": [
    "From here on, you will use the variables `TfIDF_train` and `TfIDF_test` as the input for the different tasks, and the `y_train` and `y_test` labels for each dataset (if required).  The output is a **sparse matrix** with the 236 words that do not appear in more than 95% of texts nor in less than 5% of texts. These matrices only store the relevant information! They are *much* more efficient in-memory.  Sadly, PCA nor torch deal very well with sparse matrices without further processing, so we turn them into dense matrices.\n",
    "\n",
    "We can check the outputs of the first row with the below code."
   ]
  },
  {
   "cell_type": "code",
   "execution_count": 3,
   "metadata": {},
   "outputs": [
    {
     "name": "stdout",
     "output_type": "stream",
     "text": [
      "[0.         0.         0.         0.         0.         0.16565558\n",
      " 0.         0.         0.         0.         0.         0.\n",
      " 0.         0.         0.         0.24573797 0.         0.\n",
      " 0.         0.         0.         0.         0.         0.\n",
      " 0.         0.         0.         0.         0.17111284 0.\n",
      " 0.         0.         0.         0.         0.17934085 0.\n",
      " 0.18989355 0.         0.20293873 0.         0.         0.\n",
      " 0.         0.         0.15861506 0.         0.28146216 0.15964171\n",
      " 0.         0.         0.13397591 0.         0.         0.\n",
      " 0.         0.         0.         0.         0.         0.\n",
      " 0.         0.         0.         0.         0.         0.\n",
      " 0.         0.2143442  0.         0.         0.         0.\n",
      " 0.         0.         0.         0.         0.         0.\n",
      " 0.         0.         0.         0.         0.11417021 0.\n",
      " 0.         0.         0.         0.         0.19858848 0.\n",
      " 0.         0.         0.         0.         0.         0.\n",
      " 0.         0.         0.         0.17507433 0.         0.\n",
      " 0.         0.         0.         0.         0.         0.\n",
      " 0.         0.         0.         0.         0.         0.\n",
      " 0.         0.         0.         0.         0.         0.\n",
      " 0.         0.         0.         0.         0.         0.\n",
      " 0.         0.         0.25421261 0.         0.         0.33802745\n",
      " 0.         0.         0.         0.         0.         0.\n",
      " 0.         0.         0.         0.         0.         0.\n",
      " 0.         0.         0.         0.         0.         0.\n",
      " 0.         0.         0.         0.         0.         0.\n",
      " 0.         0.         0.         0.         0.         0.\n",
      " 0.         0.         0.         0.         0.         0.\n",
      " 0.         0.         0.         0.         0.         0.\n",
      " 0.         0.19455489 0.         0.         0.         0.\n",
      " 0.         0.         0.36503031 0.         0.         0.\n",
      " 0.         0.         0.         0.         0.         0.\n",
      " 0.11485888 0.         0.         0.19079499 0.         0.\n",
      " 0.         0.         0.         0.         0.         0.12018884\n",
      " 0.         0.         0.         0.         0.         0.\n",
      " 0.         0.         0.         0.         0.         0.21148444\n",
      " 0.         0.         0.         0.         0.         0.\n",
      " 0.         0.         0.19455489 0.         0.         0.\n",
      " 0.         0.         0.         0.         0.         0.\n",
      " 0.         0.        ]\n"
     ]
    }
   ],
   "source": [
    "print(TfIDF_train[1,:])"
   ]
  },
  {
   "cell_type": "markdown",
   "metadata": {},
   "source": [
    "Each column represents one word and each non-zero value represents the Tf-IDF weight as seen in the lectures. To find out which word is which in the index, you can use the [`TfIDFTransformer.get_feature_names()` method](https://scikit-learn.org/stable/modules/generated/sklearn.feature_extraction.text.TfidfTransformer.html)."
   ]
  },
  {
   "cell_type": "code",
   "execution_count": 4,
   "metadata": {},
   "outputs": [
    {
     "name": "stdout",
     "output_type": "stream",
     "text": [
      "There are 236 words in the index.\n"
     ]
    }
   ],
   "source": [
    "print('There are %i words in the index.' % len(TfIDFTransformer.get_feature_names()))"
   ]
  },
  {
   "cell_type": "markdown",
   "metadata": {},
   "source": [
    "## Task 1: PCA decomposition of the texts. [35 pts]\n",
    "\n",
    "Now you have the TfIDF matrix, We can start working on the data. As a first step, we want to explore what some commonly occuring concepts in the text reviews. We can do this using PCA. A PCA transform of the TF-IDF matrix will give you a basis of the text data, each representing a *concept* or set of words that are correlated. Correlation in text can be interpreted as a relation to a similar topic.\n",
    "\n",
    "1. First, calculate a PCA transform of the training data using the **maximum** number of concepts possible. Make a plot of the explained variance that shows the cumulative explained variance per number of concepts. \n",
    "\n",
    "**Written answer: Exactly how many concepts do you need to correctly explain at least 75% of the data? (note we need the exact # of concepts)**  [15 pts]"
   ]
  },
  {
   "cell_type": "code",
   "execution_count": 37,
   "metadata": {},
   "outputs": [
    {
     "data": {
      "image/png": "[encoded data removed]",
      "text/plain": [
       "<Figure size 432x288 with 1 Axes>"
      ]
     },
     "metadata": {
      "needs_background": "light"
     },
     "output_type": "display_data"
    }
   ],
   "source": [
    "# Your code here.\n",
    "PCA_max=PCA(n_components=236)\n",
    "PCA_max.fit_transform(TfIDF_train)\n",
    "variance_list=[]\n",
    "# Make the plot\n",
    "cumulative_variance=0\n",
    "for i in range (1,237):\n",
    "    cumulative_variance+=PCA_max.explained_variance_ratio_[i-1]\n",
    "    variance_list.append(cumulative_variance)\n",
    "\n",
    "plt.scatter([i for i in range(1,237,1)], variance_list)\n",
    "plt.xlabel('Number of Concepts')\n",
    "plt.ylabel('Cumulative Expalined Variance')\n",
    "plt.title('Cumulative Explained Variance per Number of Concepts')\n",
    "plt.show()"
   ]
  },
  {
   "cell_type": "code",
   "execution_count": 38,
   "metadata": {},
   "outputs": [
    {
     "name": "stdout",
     "output_type": "stream",
     "text": [
      "We need  114  concepts to explain at least 75% of data\n"
     ]
    }
   ],
   "source": [
    "# To get the exact index where the variance is above 75%\n",
    "cumulative_variance=0\n",
    "exact_number=0\n",
    "for i in range (1,237):\n",
    "    cumulative_variance+=PCA_max.explained_variance_ratio_[i-1]\n",
    "    if cumulative_variance>0.75:\n",
    "        exact_number=i\n",
    "        break\n",
    "\n",
    "print(\"We need \",exact_number,\" concepts to explain at least 75% of data\")"
   ]
  },
  {
   "cell_type": "markdown",
   "metadata": {},
   "source": [
    "**Written answer: **\n",
    "we need 114 concepts to explain at least 75% of data"
   ]
  },
  {
   "cell_type": "markdown",
   "metadata": {},
   "source": [
    "2. Study the first three concepts. To do this, show the 10 words that are the most important in the each of these three concepts (as revealed by the absolute value of the PCA weight in each concept).\n",
    "\n",
    "**Written answer: What is the cumulative variance explained by these three concepts? What would you name each of these concepts?** [10 pts]\n",
    "*Hint: if in a concept you would get the words 'dog', 'cat', 'fish' as the most important ones, you could name the concept 'animals' or 'pets'.*"
   ]
  },
  {
   "cell_type": "code",
   "execution_count": 39,
   "metadata": {},
   "outputs": [
    {
     "name": "stdout",
     "output_type": "stream",
     "text": [
      "cumulative variance explained by these three concepts is 0.048604638960120294\n"
     ]
    }
   ],
   "source": [
    "# Explained variance.\n",
    "threeconcept_variance=0\n",
    "for i in range (3):\n",
    "    threeconcept_variance+=PCA_max.explained_variance_ratio_[i]\n",
    "print(\"cumulative variance explained by these three concepts is\",threeconcept_variance)"
   ]
  },
  {
   "cell_type": "code",
   "execution_count": 40,
   "metadata": {},
   "outputs": [],
   "source": [
    "# Get words per component\n",
    "concept1=PCA_max.components_[0,:]\n",
    "concept2=PCA_max.components_[1,:]\n",
    "concept3=PCA_max.components_[2,:]\n",
    "\n",
    "\n",
    "wordindex1=np.argpartition(-concept1, 10)\n",
    "wordindex1=wordindex1[:10]\n",
    "\n",
    "wordindex2=np.argpartition(-concept2, 10)\n",
    "wordindex2=wordindex2[:10]\n",
    "\n",
    "wordindex3=np.argpartition(-concept3, 10)\n",
    "wordindex3=wordindex3[:10]"
   ]
  },
  {
   "cell_type": "code",
   "execution_count": 41,
   "metadata": {},
   "outputs": [
    {
     "name": "stdout",
     "output_type": "stream",
     "text": [
      "bad\n",
      "think\n",
      "movie\n",
      "like\n",
      "terrible\n",
      "movies\n",
      "don\n",
      "watch\n",
      "just\n",
      "thought\n"
     ]
    }
   ],
   "source": [
    "# Concept 1\n",
    "for i in range(10):\n",
    "    print(TfIDFTransformer.get_feature_names()[wordindex1[i]])"
   ]
  },
  {
   "cell_type": "code",
   "execution_count": 42,
   "metadata": {},
   "outputs": [
    {
     "name": "stdout",
     "output_type": "stream",
     "text": [
      "series\n",
      "characters\n",
      "great\n",
      "love\n",
      "loved\n",
      "excellent\n",
      "story\n",
      "john\n",
      "cast\n",
      "movies\n"
     ]
    }
   ],
   "source": [
    "# Concept 2\n",
    "for i in range(10):\n",
    "    print(TfIDFTransformer.get_feature_names()[wordindex2[i]])"
   ]
  },
  {
   "cell_type": "code",
   "execution_count": 43,
   "metadata": {},
   "outputs": [
    {
     "name": "stdout",
     "output_type": "stream",
     "text": [
      "new\n",
      "man\n",
      "funny\n",
      "old\n",
      "original\n",
      "series\n",
      "comedy\n",
      "little\n",
      "thing\n",
      "star\n"
     ]
    }
   ],
   "source": [
    "# Concept 3\n",
    "for i in range(10):\n",
    "    print(TfIDFTransformer.get_feature_names()[wordindex3[i]])"
   ]
  },
  {
   "cell_type": "markdown",
   "metadata": {},
   "source": [
    "**Written answer: ** cumulative variance explained by these three concepts is 0.048604638960120294. First concept is \"bad\", because all those words come from bad reviews. The second concept is \"good\", because all these words come from good reviews. The third concept is \"neutral\", because all these words are neither negative nor positive. "
   ]
  },
  {
   "cell_type": "markdown",
   "metadata": {},
   "source": [
    "3. Apply the PCA transformation to the test dataset. Using only the first two components, make a scatter plot of the cases. Identify positive and negative cases by colouring points with different sentiments with different colours. \n",
    "\n",
    "**Written answer: What can you say about where the positive and negative cases lie in your plot? Could we use these concepts to discriminate positive and negative cases? If yes, why? If no, why not? Discuss your findings.** [10 pts]"
   ]
  },
  {
   "cell_type": "code",
   "execution_count": 61,
   "metadata": {},
   "outputs": [
    {
     "data": {
      "text/plain": [
       "Text(0, 0.5, 'Second component')"
      ]
     },
     "execution_count": 61,
     "metadata": {},
     "output_type": "execute_result"
    },
    {
     "data": {
      "image/png": "[encoded data removed]",
      "text/plain": [
       "<Figure size 432x288 with 1 Axes>"
      ]
     },
     "metadata": {
      "needs_background": "light"
     },
     "output_type": "display_data"
    }
   ],
   "source": [
    "# Apply the test data\n",
    "\n",
    "test_result=PCA_max.transform(TfIDF_test)\n",
    "# Plot the two different set of points filtering by label.\n",
    "counter=0\n",
    "for i in y_test:\n",
    "    if i==1:\n",
    "        plt.scatter(test_result[counter,0],test_result[counter,1],c=\"blue\")\n",
    "    else:\n",
    "        plt.scatter(test_result[counter,0],test_result[counter,1],c=\"red\")\n",
    "    counter+=1\n",
    "\n",
    "plt.xlabel('First component')\n",
    "plt.ylabel('Second component')\n"
   ]
  },
  {
   "cell_type": "markdown",
   "metadata": {},
   "source": [
    "**Written answer:**\n",
    "\n",
    "most positive cases lie in the top left portion of the plot, and most negative cases lie in the bottom right portion of the plot. However, these two concepts still cannot be used to discriminate positive and negative cases. Many positive and negative cases lit in the middle of the plot, so these cases have similar values for the first two concepts. This means that using the first two concepts cannot completely distinguish these positive and negative cases in the middle of the plot. "
   ]
  },
  {
   "cell_type": "markdown",
   "metadata": {},
   "source": [
    "## Task 2: Autoencoders [35 pts]\n",
    "\n",
    "We will see now the ability of autoencoders to compress the data. Train an autoencoder that compresses the data to 60 neurons in the encoding layer as shown in lab 10.2, to be trained over the original TfIDF train dataset. Use a total of 5 fully connected layers going from 236 to 100 to 60 to 100 to 236 units. Use a relu non-linearity for each of them. Then try at two more variations of this network. You could vary the number of hidden units, number of layers, or the type of nonlinearity that you are using. Train the models, each time reducing model reconstruction error. For each model you train, plot the reconstruction error (MSE) over the train set and the test set as you train every 100 rounds. \n",
    "\n",
    "**Written answer: Which of your models performs the best? After how many epochs does your best model reach convergence? Does your model overfit? If yes, why do you think this is? If no, why?** [10 pts each architecture plus 5 pts arguing which one is better plus the explaining of overfitting]"
   ]
  },
  {
   "cell_type": "code",
   "execution_count": 86,
   "metadata": {},
   "outputs": [
    {
     "data": {
      "image/png": "[encoded data removed]",
      "text/plain": [
       "<Figure size 432x288 with 1 Axes>"
      ]
     },
     "metadata": {
      "needs_background": "light"
     },
     "output_type": "display_data"
    }
   ],
   "source": [
    "# Model architecture and definition\n",
    "from IPython.display import clear_output\n",
    "\n",
    "class autoencoder(nn.Module):\n",
    "    def __init__(self):\n",
    "        super(autoencoder, self).__init__()\n",
    "        self.encoder = nn.Sequential(\n",
    "            nn.Linear(236,100),\n",
    "            nn.ReLU(),\n",
    "            nn.Linear(100,60),\n",
    "            nn.ReLU()\n",
    "            )\n",
    "        self.decoder = nn.Sequential(\n",
    "            nn.Linear(60,100),\n",
    "            nn.ReLU(),\n",
    "            nn.Linear(100,236),\n",
    "            nn.ReLU()\n",
    "            )\n",
    "\n",
    "    def forward(self, x):\n",
    "        x = self.encoder(x)\n",
    "        x = self.decoder(x)\n",
    "        return x\n",
    "\n",
    "\n",
    "#build model\n",
    "auto_enc= autoencoder()\n",
    "\n",
    "#define loss function\n",
    "loss_fn = torch.nn.MSELoss()\n",
    "\n",
    "#define learning rate\n",
    "learning_rate = 1e-1\n",
    "\n",
    "#convert dataset to tensors\n",
    "X_scaled = torch.from_numpy(TfIDF_train)\n",
    "X_test=torch.from_numpy(TfIDF_test)\n",
    "#train model\n",
    "trainingloss=[]\n",
    "testloss=[]\n",
    "numbindex=[]\n",
    "for t in range (2000):\n",
    "  y_pred = auto_enc(X_scaled.float())\n",
    "  loss = loss_fn(y_pred.float(), X_scaled.float())\n",
    "  if t % 100 == 99:\n",
    "        clear_output(wait=True)\n",
    "        numbindex.append(t+1)\n",
    "        trainingloss.append(loss.item())\n",
    "        y_pred_test = auto_enc.forward(torch.Tensor(X_test.float()))\n",
    "        testloss.append(loss_fn(y_pred_test,X_test).item())\n",
    "        plt.scatter(numbindex,trainingloss,label=\"training loss\",c=\"blue\")\n",
    "        plt.scatter(numbindex,testloss,label=\"test loss\",c=\"red\")\n",
    "        plt.xlabel(\"epochs\") \n",
    "        plt.ylabel(\"Mean Squared Error Loss\") \n",
    "        plt.show() \n",
    "        \n",
    "        \n",
    "  auto_enc.zero_grad()\n",
    "  loss.backward()\n",
    "  with torch.no_grad():\n",
    "        for param in auto_enc.parameters():\n",
    "            param -= learning_rate * param.grad \n",
    "\n"
   ]
  },
  {
   "cell_type": "code",
   "execution_count": 87,
   "metadata": {},
   "outputs": [
    {
     "data": {
      "image/png": "[encoded data removed]",
      "text/plain": [
       "<Figure size 432x288 with 1 Axes>"
      ]
     },
     "metadata": {
      "needs_background": "light"
     },
     "output_type": "display_data"
    }
   ],
   "source": [
    "# model 2 more layers\n",
    "class autoencoder(nn.Module):\n",
    "    def __init__(self):\n",
    "        super(autoencoder, self).__init__()\n",
    "        self.encoder = nn.Sequential(\n",
    "            nn.Linear(236,160),\n",
    "            nn.ReLU(),\n",
    "            nn.Linear(160,100),\n",
    "            nn.ReLU(),\n",
    "            nn.Linear(100,60),\n",
    "            nn.ReLU()\n",
    "            )\n",
    "        self.decoder = nn.Sequential(\n",
    "            nn.Linear(60,100),\n",
    "            nn.ReLU(),\n",
    "            nn.Linear(100,160),\n",
    "            nn.ReLU(),\n",
    "            nn.Linear(160,236),\n",
    "            nn.ReLU()\n",
    "            )\n",
    "\n",
    "    def forward(self, x):\n",
    "        x = self.encoder(x)\n",
    "        x = self.decoder(x)\n",
    "        return x\n",
    "\n",
    "\n",
    "#build model\n",
    "auto_enc= autoencoder()\n",
    "\n",
    "#define loss function\n",
    "loss_fn = torch.nn.MSELoss()\n",
    "\n",
    "#define learning rate\n",
    "learning_rate = 1e-1\n",
    "\n",
    "#convert dataset to tensors\n",
    "X_scaled = torch.from_numpy(TfIDF_train)\n",
    "X_test=torch.from_numpy(TfIDF_test)\n",
    "#train model\n",
    "trainingloss=[]\n",
    "testloss=[]\n",
    "numbindex=[]\n",
    "for t in range (2000):\n",
    "  y_pred = auto_enc(X_scaled.float())\n",
    "  loss = loss_fn(y_pred.float(), X_scaled.float())\n",
    "  if t % 100 == 99:\n",
    "        clear_output(wait=True)\n",
    "        numbindex.append(t+1)\n",
    "        trainingloss.append(loss.item())\n",
    "        y_pred_test = auto_enc.forward(torch.Tensor(X_test.float()))\n",
    "        testloss.append(loss_fn(y_pred_test,X_test).item())\n",
    "        plt.scatter(numbindex,trainingloss,label=\"training loss\",c=\"blue\")\n",
    "        plt.scatter(numbindex,testloss,label=\"test loss\",c=\"red\")\n",
    "        plt.xlabel(\"epochs\") \n",
    "        plt.ylabel(\"Mean Squared Error Loss\") \n",
    "        plt.show() \n",
    "        \n",
    "        \n",
    "  auto_enc.zero_grad()\n",
    "  loss.backward()\n",
    "  with torch.no_grad():\n",
    "        for param in auto_enc.parameters():\n",
    "            param -= learning_rate * param.grad \n"
   ]
  },
  {
   "cell_type": "code",
   "execution_count": 89,
   "metadata": {},
   "outputs": [
    {
     "data": {
      "image/png": "[encoded data removed]",
      "text/plain": [
       "<Figure size 432x288 with 1 Axes>"
      ]
     },
     "metadata": {
      "needs_background": "light"
     },
     "output_type": "display_data"
    }
   ],
   "source": [
    "#model 3 more hidden units\n",
    "class autoencoder(nn.Module):\n",
    "    def __init__(self):\n",
    "        super(autoencoder, self).__init__()\n",
    "        self.encoder = nn.Sequential(\n",
    "            nn.Linear(236,80),\n",
    "            nn.ReLU(),\n",
    "            nn.Linear(80,60),\n",
    "            nn.ReLU()\n",
    "            )\n",
    "        self.decoder = nn.Sequential(\n",
    "            nn.Linear(60,80),\n",
    "            nn.ReLU(),\n",
    "            nn.Linear(80,236),\n",
    "            nn.ReLU()\n",
    "            )\n",
    "\n",
    "    def forward(self, x):\n",
    "        x = self.encoder(x)\n",
    "        x = self.decoder(x)\n",
    "        return x\n",
    "\n",
    "\n",
    "#build model\n",
    "auto_enc= autoencoder()\n",
    "\n",
    "#define loss function\n",
    "loss_fn = torch.nn.MSELoss()\n",
    "\n",
    "#define learning rate\n",
    "learning_rate = 1e-1\n",
    "\n",
    "#convert dataset to tensors\n",
    "X_scaled = torch.from_numpy(TfIDF_train)\n",
    "X_test=torch.from_numpy(TfIDF_test)\n",
    "#train model\n",
    "trainingloss=[]\n",
    "testloss=[]\n",
    "numbindex=[]\n",
    "for t in range (2000):\n",
    "  y_pred = auto_enc(X_scaled.float())\n",
    "  loss = loss_fn(y_pred.float(), X_scaled.float())\n",
    "  if t % 100 == 99:\n",
    "        clear_output(wait=True)\n",
    "        numbindex.append(t+1)\n",
    "        trainingloss.append(loss.item())\n",
    "        y_pred_test = auto_enc.forward(torch.Tensor(X_test.float()))\n",
    "        testloss.append(loss_fn(y_pred_test,X_test).item())\n",
    "        plt.scatter(numbindex,trainingloss,label=\"training loss\",c=\"blue\")\n",
    "        plt.scatter(numbindex,testloss,label=\"test loss\",c=\"red\")\n",
    "        plt.xlabel(\"epochs\") \n",
    "        plt.ylabel(\"Mean Squared Error Loss\") \n",
    "        plt.show() \n",
    "        \n",
    "        \n",
    "  auto_enc.zero_grad()\n",
    "  loss.backward()\n",
    "  with torch.no_grad():\n",
    "        for param in auto_enc.parameters():\n",
    "            param -= learning_rate * param.grad \n"
   ]
  },
  {
   "cell_type": "markdown",
   "metadata": {},
   "source": [
    "**Written answer:**\n",
    "\n",
    "Model 2 is the best model. When models reach convergence, the training errors of model 2 are the lowest. Therefore, model 2 is a better fit to training and test data. The model reaches convergence after 1600 epochs. The model did not overfit, because our model is not very complex. The model does not have a lot of hidden layers and hidden units. Therefore, the training and test errors of our model are both low. "
   ]
  },
  {
   "cell_type": "markdown",
   "metadata": {},
   "source": [
    "## Task 3: Benchmarking predictive capabilities of the compressed data. [30 pts]\n",
    "\n",
    "For the final task, you will benchmark the different compression algorithms over the original data. For this:\n",
    "\n",
    "1. Train a regularized logistic regression over the original TfIDF train set (with no compression) to predict the positive / negative class label for each movie. Calculate the AUROC over the test set.\n",
    "2. Train a regularized logistic regression over the PCA-reduced dataset (with 60 components), and calculate the AUROC over the PCA-transformed test set.\n",
    "3. Train a regularized logistic regression over the encoded dataset (with 60 variables), and calculate AUROC over the encoded test set.\n",
    "\n",
    "**Written answer 1: Compare the performance of the three models: how do they compare?**\n",
    "\n",
    "**Written answer 2: Which of the two compression methods (methods 2 and 3) is better at compressing the data without altering its predictive capacity? Why do you think this happens?**"
   ]
  },
  {
   "cell_type": "code",
   "execution_count": 117,
   "metadata": {},
   "outputs": [
    {
     "name": "stdout",
     "output_type": "stream",
     "text": [
      "model 1: 0.7545810354029532\n"
     ]
    }
   ],
   "source": [
    "# Full dataset regression and AUC plot / calculation\n",
    "from sklearn.metrics import make_scorer \n",
    "myscorer = make_scorer(\n",
    "         roc_auc_score\n",
    ")\n",
    "model=LogisticRegressionCV(scoring=myscorer,max_iter = 1000000, multi_class='auto').fit(TfIDF_train,y_train.values)\n",
    "print(\"model 1:\",model.score(TfIDF_test,y_test.values))"
   ]
  },
  {
   "cell_type": "code",
   "execution_count": 118,
   "metadata": {},
   "outputs": [
    {
     "name": "stdout",
     "output_type": "stream",
     "text": [
      "model 2: 0.6637164205657357\n"
     ]
    }
   ],
   "source": [
    "# PCA dataset regression and AUC plot / calculation\n",
    "PCA_train=PCA(n_components=60)\n",
    "X_PCA=pd.DataFrame(PCA_train.fit_transform(TfIDF_train))\n",
    "PCA_test=PCA(n_components=60)\n",
    "test_PCA=pd.DataFrame(PCA_test.fit_transform(TfIDF_test))\n",
    "\n",
    "PCAmodel=LogisticRegressionCV(scoring=myscorer,max_iter = 1000000, multi_class='auto').fit(X_PCA,y_train.values)\n",
    "print(\"model 2:\",PCAmodel.score(test_PCA,y_test.values))"
   ]
  },
  {
   "cell_type": "code",
   "execution_count": 125,
   "metadata": {},
   "outputs": [
    {
     "data": {
      "image/png": "[encoded data removed]",
      "text/plain": [
       "<Figure size 432x288 with 1 Axes>"
      ]
     },
     "metadata": {
      "needs_background": "light"
     },
     "output_type": "display_data"
    }
   ],
   "source": [
    "# Autoencoder dataset regression and AUC plot / calculation\n",
    "class autoencoder(nn.Module):\n",
    "    def __init__(self):\n",
    "        super(autoencoder, self).__init__()\n",
    "        self.encoder = nn.Sequential(\n",
    "            nn.Linear(236,100),\n",
    "            nn.ReLU(),\n",
    "            nn.Linear(100,60),\n",
    "            nn.ReLU()\n",
    "            )\n",
    "        self.decoder = nn.Sequential(\n",
    "            nn.Linear(60,100),\n",
    "            nn.ReLU(),\n",
    "            nn.Linear(100,236),\n",
    "            nn.ReLU()\n",
    "            )\n",
    "\n",
    "    def forward(self, x):\n",
    "        x = self.encoder(x)\n",
    "        x = self.decoder(x)\n",
    "        return x\n",
    "\n",
    "\n",
    "#build model\n",
    "auto_enc= autoencoder()\n",
    "\n",
    "#define loss function\n",
    "loss_fn = torch.nn.MSELoss()\n",
    "\n",
    "#define learning rate\n",
    "learning_rate = 1e-1\n",
    "\n",
    "#convert dataset to tensors\n",
    "X_scaled = torch.from_numpy(TfIDF_train)\n",
    "X_test=torch.from_numpy(TfIDF_test)\n",
    "#train model\n",
    "trainingloss=[]\n",
    "testloss=[]\n",
    "numbindex=[]\n",
    "for t in range (5000):\n",
    "  y_pred = auto_enc(X_scaled.float())\n",
    "  loss = loss_fn(y_pred.float(), X_scaled.float())\n",
    "  if t % 100 == 99:\n",
    "        clear_output(wait=True)\n",
    "        numbindex.append(t+1)\n",
    "        trainingloss.append(loss.item())\n",
    "        y_pred_test = auto_enc.forward(torch.Tensor(X_test.float()))\n",
    "        testloss.append(loss_fn(y_pred_test,X_test).item())\n",
    "        plt.scatter(numbindex,trainingloss,label=\"training loss\",c=\"blue\")\n",
    "        plt.scatter(numbindex,testloss,label=\"test loss\",c=\"red\")\n",
    "        plt.xlabel(\"epochs\") \n",
    "        plt.ylabel(\"Mean Squared Error Loss\") \n",
    "        plt.show() \n",
    "        \n",
    "        \n",
    "  auto_enc.zero_grad()\n",
    "  loss.backward()\n",
    "  with torch.no_grad():\n",
    "        for param in auto_enc.parameters():\n",
    "            param -= learning_rate * param.grad \n",
    "\n"
   ]
  },
  {
   "cell_type": "code",
   "execution_count": 126,
   "metadata": {},
   "outputs": [
    {
     "name": "stdout",
     "output_type": "stream",
     "text": [
      "model 3: 0.5576854652197117\n"
     ]
    }
   ],
   "source": [
    "encoder_train=auto_enc.encoder(X_scaled.float()).detach().numpy()\n",
    "encoder_test=auto_enc.encoder(X_test.float()).detach().numpy()\n",
    "encodermodel=LogisticRegressionCV(scoring=myscorer,max_iter = 1000000, multi_class='auto').fit(encoder_train,y_train.values)\n",
    "print(\"model 3:\",encodermodel.score(encoder_test,y_test.values))"
   ]
  },
  {
   "cell_type": "markdown",
   "metadata": {},
   "source": [
    "**Written answer:**\n",
    "\n",
    "Answer1: The model without compression performs the best. The second best model is the model that was trained on PCA-reduced data set. The worst model is the model that was trained on encoded dataset.\n",
    "\n",
    "Answer2:  methods 2 is better at compressing the data without altering its predictive capacity.PCA is a method for linear dimensionality reduction, and autoencoder is a method for nonlinear dimensionality reduction. We are doing logistic regression to predict positive/negative for each movie. Then our model will not be very complex. PCA will shift and stretch the data, but the data will not make dramatic changes. The logistic regression model can still fit the data. Autoencoder will make more dramatic changes on data, because it is a nonlinear dimensionality reduction method. Then it is harder for our logistic regression model to fit the data after autoencoding. As a result, autoencoding will impair its predictive capacity."
   ]
  }
 ],
 "metadata": {
  "kernelspec": {
   "display_name": "Python 3",
   "language": "python",
   "name": "python3"
  },
  "language_info": {
   "codemirror_mode": {
    "name": "ipython",
    "version": 3
   },
   "file_extension": ".py",
   "mimetype": "text/x-python",
   "name": "python",
   "nbconvert_exporter": "python",
   "pygments_lexer": "ipython3",
   "version": "3.8.5"
  }
 },
 "nbformat": 4,
 "nbformat_minor": 5
}
